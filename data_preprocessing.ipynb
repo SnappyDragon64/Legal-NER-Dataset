{
  "cells": [
    {
      "cell_type": "markdown",
      "metadata": {
        "id": "9hBuhpN36yor"
      },
      "source": [
        "# Dependencies"
      ]
    },
    {
      "cell_type": "code",
      "execution_count": 4,
      "metadata": {
        "colab": {
          "base_uri": "https://localhost:8080/"
        },
        "id": "DExMn07vFW-F",
        "outputId": "c8c35937-aef0-467b-e88e-f6d5125f5996"
      },
      "outputs": [
        {
          "output_type": "stream",
          "name": "stdout",
          "text": [
            "Requirement already satisfied: huggingface_hub in /usr/local/lib/python3.10/dist-packages (0.24.7)\n",
            "Requirement already satisfied: filelock in /usr/local/lib/python3.10/dist-packages (from huggingface_hub) (3.16.1)\n",
            "Requirement already satisfied: fsspec>=2023.5.0 in /usr/local/lib/python3.10/dist-packages (from huggingface_hub) (2024.6.1)\n",
            "Requirement already satisfied: packaging>=20.9 in /usr/local/lib/python3.10/dist-packages (from huggingface_hub) (24.1)\n",
            "Requirement already satisfied: pyyaml>=5.1 in /usr/local/lib/python3.10/dist-packages (from huggingface_hub) (6.0.2)\n",
            "Requirement already satisfied: requests in /usr/local/lib/python3.10/dist-packages (from huggingface_hub) (2.32.3)\n",
            "Requirement already satisfied: tqdm>=4.42.1 in /usr/local/lib/python3.10/dist-packages (from huggingface_hub) (4.66.5)\n",
            "Requirement already satisfied: typing-extensions>=3.7.4.3 in /usr/local/lib/python3.10/dist-packages (from huggingface_hub) (4.12.2)\n",
            "Requirement already satisfied: charset-normalizer<4,>=2 in /usr/local/lib/python3.10/dist-packages (from requests->huggingface_hub) (3.3.2)\n",
            "Requirement already satisfied: idna<4,>=2.5 in /usr/local/lib/python3.10/dist-packages (from requests->huggingface_hub) (3.10)\n",
            "Requirement already satisfied: urllib3<3,>=1.21.1 in /usr/local/lib/python3.10/dist-packages (from requests->huggingface_hub) (2.2.3)\n",
            "Requirement already satisfied: certifi>=2017.4.17 in /usr/local/lib/python3.10/dist-packages (from requests->huggingface_hub) (2024.8.30)\n",
            "Requirement already satisfied: datasets in /usr/local/lib/python3.10/dist-packages (3.0.1)\n",
            "Requirement already satisfied: filelock in /usr/local/lib/python3.10/dist-packages (from datasets) (3.16.1)\n",
            "Requirement already satisfied: numpy>=1.17 in /usr/local/lib/python3.10/dist-packages (from datasets) (1.26.4)\n",
            "Requirement already satisfied: pyarrow>=15.0.0 in /usr/local/lib/python3.10/dist-packages (from datasets) (16.1.0)\n",
            "Requirement already satisfied: dill<0.3.9,>=0.3.0 in /usr/local/lib/python3.10/dist-packages (from datasets) (0.3.8)\n",
            "Requirement already satisfied: pandas in /usr/local/lib/python3.10/dist-packages (from datasets) (2.2.2)\n",
            "Requirement already satisfied: requests>=2.32.2 in /usr/local/lib/python3.10/dist-packages (from datasets) (2.32.3)\n",
            "Requirement already satisfied: tqdm>=4.66.3 in /usr/local/lib/python3.10/dist-packages (from datasets) (4.66.5)\n",
            "Requirement already satisfied: xxhash in /usr/local/lib/python3.10/dist-packages (from datasets) (3.5.0)\n",
            "Requirement already satisfied: multiprocess in /usr/local/lib/python3.10/dist-packages (from datasets) (0.70.16)\n",
            "Requirement already satisfied: fsspec<=2024.6.1,>=2023.1.0 in /usr/local/lib/python3.10/dist-packages (from fsspec[http]<=2024.6.1,>=2023.1.0->datasets) (2024.6.1)\n",
            "Requirement already satisfied: aiohttp in /usr/local/lib/python3.10/dist-packages (from datasets) (3.10.8)\n",
            "Requirement already satisfied: huggingface-hub>=0.22.0 in /usr/local/lib/python3.10/dist-packages (from datasets) (0.24.7)\n",
            "Requirement already satisfied: packaging in /usr/local/lib/python3.10/dist-packages (from datasets) (24.1)\n",
            "Requirement already satisfied: pyyaml>=5.1 in /usr/local/lib/python3.10/dist-packages (from datasets) (6.0.2)\n",
            "Requirement already satisfied: aiohappyeyeballs>=2.3.0 in /usr/local/lib/python3.10/dist-packages (from aiohttp->datasets) (2.4.3)\n",
            "Requirement already satisfied: aiosignal>=1.1.2 in /usr/local/lib/python3.10/dist-packages (from aiohttp->datasets) (1.3.1)\n",
            "Requirement already satisfied: attrs>=17.3.0 in /usr/local/lib/python3.10/dist-packages (from aiohttp->datasets) (24.2.0)\n",
            "Requirement already satisfied: frozenlist>=1.1.1 in /usr/local/lib/python3.10/dist-packages (from aiohttp->datasets) (1.4.1)\n",
            "Requirement already satisfied: multidict<7.0,>=4.5 in /usr/local/lib/python3.10/dist-packages (from aiohttp->datasets) (6.1.0)\n",
            "Requirement already satisfied: yarl<2.0,>=1.12.0 in /usr/local/lib/python3.10/dist-packages (from aiohttp->datasets) (1.13.1)\n",
            "Requirement already satisfied: async-timeout<5.0,>=4.0 in /usr/local/lib/python3.10/dist-packages (from aiohttp->datasets) (4.0.3)\n",
            "Requirement already satisfied: typing-extensions>=3.7.4.3 in /usr/local/lib/python3.10/dist-packages (from huggingface-hub>=0.22.0->datasets) (4.12.2)\n",
            "Requirement already satisfied: charset-normalizer<4,>=2 in /usr/local/lib/python3.10/dist-packages (from requests>=2.32.2->datasets) (3.3.2)\n",
            "Requirement already satisfied: idna<4,>=2.5 in /usr/local/lib/python3.10/dist-packages (from requests>=2.32.2->datasets) (3.10)\n",
            "Requirement already satisfied: urllib3<3,>=1.21.1 in /usr/local/lib/python3.10/dist-packages (from requests>=2.32.2->datasets) (2.2.3)\n",
            "Requirement already satisfied: certifi>=2017.4.17 in /usr/local/lib/python3.10/dist-packages (from requests>=2.32.2->datasets) (2024.8.30)\n",
            "Requirement already satisfied: python-dateutil>=2.8.2 in /usr/local/lib/python3.10/dist-packages (from pandas->datasets) (2.8.2)\n",
            "Requirement already satisfied: pytz>=2020.1 in /usr/local/lib/python3.10/dist-packages (from pandas->datasets) (2024.2)\n",
            "Requirement already satisfied: tzdata>=2022.7 in /usr/local/lib/python3.10/dist-packages (from pandas->datasets) (2024.2)\n",
            "Requirement already satisfied: six>=1.5 in /usr/local/lib/python3.10/dist-packages (from python-dateutil>=2.8.2->pandas->datasets) (1.16.0)\n"
          ]
        }
      ],
      "source": [
        "!pip install huggingface_hub\n",
        "!pip install datasets"
      ]
    },
    {
      "cell_type": "code",
      "source": [
        "!huggingface-cli login"
      ],
      "metadata": {
        "colab": {
          "base_uri": "https://localhost:8080/"
        },
        "id": "K8NLPoXjMce8",
        "outputId": "8fadf202-f8ae-483b-9528-c24fb0507eb3"
      },
      "execution_count": 5,
      "outputs": [
        {
          "output_type": "stream",
          "name": "stdout",
          "text": [
            "\n",
            "    _|    _|  _|    _|    _|_|_|    _|_|_|  _|_|_|  _|      _|    _|_|_|      _|_|_|_|    _|_|      _|_|_|  _|_|_|_|\n",
            "    _|    _|  _|    _|  _|        _|          _|    _|_|    _|  _|            _|        _|    _|  _|        _|\n",
            "    _|_|_|_|  _|    _|  _|  _|_|  _|  _|_|    _|    _|  _|  _|  _|  _|_|      _|_|_|    _|_|_|_|  _|        _|_|_|\n",
            "    _|    _|  _|    _|  _|    _|  _|    _|    _|    _|    _|_|  _|    _|      _|        _|    _|  _|        _|\n",
            "    _|    _|    _|_|      _|_|_|    _|_|_|  _|_|_|  _|      _|    _|_|_|      _|        _|    _|    _|_|_|  _|_|_|_|\n",
            "\n",
            "    To login, `huggingface_hub` requires a token generated from https://huggingface.co/settings/tokens .\n",
            "Enter your token (input will not be visible): \n",
            "Add token as git credential? (Y/n) n\n",
            "Token is valid (permission: read).\n",
            "Your token has been saved to /root/.cache/huggingface/token\n",
            "Login successful\n"
          ]
        }
      ]
    },
    {
      "cell_type": "code",
      "execution_count": 8,
      "metadata": {
        "colab": {
          "base_uri": "https://localhost:8080/"
        },
        "id": "Ds6A9V5XGLJi",
        "outputId": "32d468ef-e4e2-43ce-990f-657cd7991f18"
      },
      "outputs": [
        {
          "output_type": "stream",
          "name": "stdout",
          "text": [
            "Requirement already satisfied: transformers in /usr/local/lib/python3.10/dist-packages (4.44.2)\n",
            "Requirement already satisfied: filelock in /usr/local/lib/python3.10/dist-packages (from transformers) (3.16.1)\n",
            "Requirement already satisfied: huggingface-hub<1.0,>=0.23.2 in /usr/local/lib/python3.10/dist-packages (from transformers) (0.24.7)\n",
            "Requirement already satisfied: numpy>=1.17 in /usr/local/lib/python3.10/dist-packages (from transformers) (1.26.4)\n",
            "Requirement already satisfied: packaging>=20.0 in /usr/local/lib/python3.10/dist-packages (from transformers) (24.1)\n",
            "Requirement already satisfied: pyyaml>=5.1 in /usr/local/lib/python3.10/dist-packages (from transformers) (6.0.2)\n",
            "Requirement already satisfied: regex!=2019.12.17 in /usr/local/lib/python3.10/dist-packages (from transformers) (2024.9.11)\n",
            "Requirement already satisfied: requests in /usr/local/lib/python3.10/dist-packages (from transformers) (2.32.3)\n",
            "Requirement already satisfied: safetensors>=0.4.1 in /usr/local/lib/python3.10/dist-packages (from transformers) (0.4.5)\n",
            "Requirement already satisfied: tokenizers<0.20,>=0.19 in /usr/local/lib/python3.10/dist-packages (from transformers) (0.19.1)\n",
            "Requirement already satisfied: tqdm>=4.27 in /usr/local/lib/python3.10/dist-packages (from transformers) (4.66.5)\n",
            "Requirement already satisfied: fsspec>=2023.5.0 in /usr/local/lib/python3.10/dist-packages (from huggingface-hub<1.0,>=0.23.2->transformers) (2024.6.1)\n",
            "Requirement already satisfied: typing-extensions>=3.7.4.3 in /usr/local/lib/python3.10/dist-packages (from huggingface-hub<1.0,>=0.23.2->transformers) (4.12.2)\n",
            "Requirement already satisfied: charset-normalizer<4,>=2 in /usr/local/lib/python3.10/dist-packages (from requests->transformers) (3.3.2)\n",
            "Requirement already satisfied: idna<4,>=2.5 in /usr/local/lib/python3.10/dist-packages (from requests->transformers) (3.10)\n",
            "Requirement already satisfied: urllib3<3,>=1.21.1 in /usr/local/lib/python3.10/dist-packages (from requests->transformers) (2.2.3)\n",
            "Requirement already satisfied: certifi>=2017.4.17 in /usr/local/lib/python3.10/dist-packages (from requests->transformers) (2024.8.30)\n",
            "Requirement already satisfied: nltk in /usr/local/lib/python3.10/dist-packages (3.8.1)\n",
            "Requirement already satisfied: click in /usr/local/lib/python3.10/dist-packages (from nltk) (8.1.7)\n",
            "Requirement already satisfied: joblib in /usr/local/lib/python3.10/dist-packages (from nltk) (1.4.2)\n",
            "Requirement already satisfied: regex>=2021.8.3 in /usr/local/lib/python3.10/dist-packages (from nltk) (2024.9.11)\n",
            "Requirement already satisfied: tqdm in /usr/local/lib/python3.10/dist-packages (from nltk) (4.66.5)\n"
          ]
        },
        {
          "output_type": "stream",
          "name": "stderr",
          "text": [
            "[nltk_data] Downloading package punkt to /root/nltk_data...\n",
            "[nltk_data]   Package punkt is already up-to-date!\n",
            "[nltk_data] Downloading package punkt_tab to /root/nltk_data...\n",
            "[nltk_data]   Unzipping tokenizers/punkt_tab.zip.\n"
          ]
        },
        {
          "output_type": "execute_result",
          "data": {
            "text/plain": [
              "True"
            ]
          },
          "metadata": {},
          "execution_count": 8
        }
      ],
      "source": [
        "!pip install transformers\n",
        "!pip install nltk\n",
        "\n",
        "import numpy as np\n",
        "import pandas as pd\n",
        "\n",
        "import nltk\n",
        "from nltk.tokenize import word_tokenize\n",
        "\n",
        "nltk.download(\"punkt\")\n",
        "nltk.download(\"punkt_tab\")"
      ]
    },
    {
      "cell_type": "markdown",
      "metadata": {
        "id": "WI66_sV96t3N"
      },
      "source": [
        "# Loading and transforming dataset into the required form"
      ]
    },
    {
      "cell_type": "code",
      "execution_count": 9,
      "metadata": {
        "id": "V4gx-WKtDUKh",
        "colab": {
          "base_uri": "https://localhost:8080/",
          "height": 241,
          "referenced_widgets": [
            "17b2579367a24a49bcf1167e700cae79",
            "e33d61de7de7445b8877bdc5ee898606",
            "d6b069325124405089317003634935fd",
            "cbcb8afb403a4cf89cc9f10dbf46f039",
            "a70e25ada3a6485682dff7bf3df6e4c9",
            "92e59fef15e64a2abd166a50439f6f07",
            "843191ba1f4f4c1092289b3e6cef8023",
            "34152529d60c42e69e903e0b5b7d4cab",
            "f067ae459e164eda8e1065f79930ee32",
            "272bd521a76a44c0835fb8c815e658ca",
            "7eb0cba77c394e98a6223df15003a5fc",
            "44fabdc32d124516a62479205b4d2701",
            "c2b415a19c3047de9762030b85e27c60",
            "57ac318069314332aa7a40f501a06bb8",
            "ed26e2d952ec4052827863b8756e680c",
            "d13bdbd238964d4cba5f10b034dc4e57",
            "ac36692fb38c4059b59279a872e7b581",
            "dffdd88ef5ab4c268eef9525c35e9539",
            "873bb299561842739dd08dcbfb4da3e9",
            "78e7a5ae590b474d85fd463a9616c1a6",
            "62fee87df31d47eda1be5f37535eba53",
            "cd93dc0d92fb4a90af7aa1c7210eccb4",
            "d762125685974b10976af9327635a5e8",
            "5dc28162ff7c4a03978746eea252769a",
            "b8af6e48bf4a4a368ab8a5f74bb446d8",
            "d3b1d7dab46a409ca134fd57342a65e4",
            "38743ac32fdd4a18b52b876fa8fff6dc",
            "aec45d57cd3b464390e0366d3393f565",
            "c7115b46b5d04a88a18318aae60d76ec",
            "3a7658aca9c3454aabb7a10623bf7afb",
            "b36fb605b1584e0499fd5394904a0553",
            "4bcfe36f28eb4affb99603dd41751cb7",
            "718422a7e49745bf99cefc44dc8415ed",
            "ac0736bf4acd479abfc982031c1fcb6a",
            "18299de1a46d4a8095c01d770ba63877",
            "347322dab75c4a48b839180524931b25",
            "640db754f6634a90a78a6cc2c7523550",
            "d845c065d3ce47a2a43700f763585e33",
            "cfe11b43ea024b96b2f039d05b5c8e58",
            "62d5e2376ba34e8f8afe2a562c6204ed",
            "334c1f81b82d41d699a60d4ff96ef516",
            "a3572780d3f441ea938fac8ee1ea7b48",
            "bad3994bae6a4d2cb3d5a9fd1aa1bb4c",
            "110d615b454141759e5792afa237a05e",
            "0b06c5b94b52486d807f4bceed66dc4f",
            "c037bc83494d4acabf2e3a8970c2d8ca",
            "0b8283e1daa0453e90675bc9496bc382",
            "fd88a122896744efa8118aab112ce06b",
            "6efdde294d9f48fabe0ed7eace5506a0",
            "c1c96fb7c8214a58ad4c2dca919f8c7c",
            "b3536903047643f085a41e85e85bcc3a",
            "99a51e75797c4825b9ea5542471438bd",
            "4a703c5dc4414beeb4045fa1f26a8708",
            "cb94083fa6744fd5a726186018569d96",
            "0a2f2b82147941068aebcf2c9d95e168",
            "ef36fa4c249f414eb978a39f90b41c21",
            "f84b224972d348eaabafb0946134bd83",
            "04d5bfb127bb4718ab4e37f82a2f57be",
            "2db99ea81a9240708b160f103b1965d7",
            "5d65dcd5229741e691d6384b448e2885",
            "2c2e310782624e09b1a558461cfbd3e6",
            "99dd3d386bca44859e38bc3b6fab1d82",
            "9ffb8ed6fc3640bc8d63310a1e23d7cc",
            "ff9ed4482c7e4d41942ee5ddbcbe3170",
            "bf3673071dc34209949540c137376a88",
            "f98bd678aa52489ba9c22b237c9b0ede",
            "7775d99d983748e0bc573ede2b582569",
            "52ec9e915f0843a5a8fde40ba324f958",
            "fdf58ac065914f7dbe76f42a0a54068e",
            "e32fe14fe0f54475bd20cd66ea2b4ec1",
            "d48295a1511444fc950102ff4e8b331d",
            "cc896981571d4b99b41d8291400ad6e3",
            "8c10ea4cc74b47fe86a6951142aca79e",
            "01fc4ed25d104d9dbf339898fac37590",
            "6e7cc07f02fb4504b98f08745b3e9e2e",
            "6825776dd727489a95ca3d41b24426ce",
            "04dbf6c5a30740c6878ee217b562188b"
          ]
        },
        "outputId": "f71ae431-c484-49dd-a3d5-79d16e9f3573"
      },
      "outputs": [
        {
          "output_type": "display_data",
          "data": {
            "text/plain": [
              "README.md:   0%|          | 0.00/3.14k [00:00<?, ?B/s]"
            ],
            "application/vnd.jupyter.widget-view+json": {
              "version_major": 2,
              "version_minor": 0,
              "model_id": "17b2579367a24a49bcf1167e700cae79"
            }
          },
          "metadata": {}
        },
        {
          "output_type": "display_data",
          "data": {
            "text/plain": [
              "(…)-00000-of-00001-de25c1ae1db42f79.parquet:   0%|          | 0.00/3.53M [00:00<?, ?B/s]"
            ],
            "application/vnd.jupyter.widget-view+json": {
              "version_major": 2,
              "version_minor": 0,
              "model_id": "44fabdc32d124516a62479205b4d2701"
            }
          },
          "metadata": {}
        },
        {
          "output_type": "display_data",
          "data": {
            "text/plain": [
              "(…)-00000-of-00001-b148266485fd7aeb.parquet:   0%|          | 0.00/389k [00:00<?, ?B/s]"
            ],
            "application/vnd.jupyter.widget-view+json": {
              "version_major": 2,
              "version_minor": 0,
              "model_id": "d762125685974b10976af9327635a5e8"
            }
          },
          "metadata": {}
        },
        {
          "output_type": "display_data",
          "data": {
            "text/plain": [
              "(…)-00000-of-00001-814a730def5e8488.parquet:   0%|          | 0.00/1.52M [00:00<?, ?B/s]"
            ],
            "application/vnd.jupyter.widget-view+json": {
              "version_major": 2,
              "version_minor": 0,
              "model_id": "ac0736bf4acd479abfc982031c1fcb6a"
            }
          },
          "metadata": {}
        },
        {
          "output_type": "display_data",
          "data": {
            "text/plain": [
              "Generating train split:   0%|          | 0/10995 [00:00<?, ? examples/s]"
            ],
            "application/vnd.jupyter.widget-view+json": {
              "version_major": 2,
              "version_minor": 0,
              "model_id": "0b06c5b94b52486d807f4bceed66dc4f"
            }
          },
          "metadata": {}
        },
        {
          "output_type": "display_data",
          "data": {
            "text/plain": [
              "Generating dev split:   0%|          | 0/1074 [00:00<?, ? examples/s]"
            ],
            "application/vnd.jupyter.widget-view+json": {
              "version_major": 2,
              "version_minor": 0,
              "model_id": "ef36fa4c249f414eb978a39f90b41c21"
            }
          },
          "metadata": {}
        },
        {
          "output_type": "display_data",
          "data": {
            "text/plain": [
              "Generating test split:   0%|          | 0/4501 [00:00<?, ? examples/s]"
            ],
            "application/vnd.jupyter.widget-view+json": {
              "version_major": 2,
              "version_minor": 0,
              "model_id": "7775d99d983748e0bc573ede2b582569"
            }
          },
          "metadata": {}
        }
      ],
      "source": [
        "from datasets import load_dataset\n",
        "\n",
        "ds = load_dataset(\"opennyaiorg/InLegalNER\")\n",
        "\n",
        "train_dataset = load_dataset(\"opennyaiorg/InLegalNER\", split=\"train\")\n",
        "dev_dataset = load_dataset(\"opennyaiorg/InLegalNER\", split=\"dev\")\n",
        "test_dataset  = load_dataset(\"opennyaiorg/InLegalNER\", split=\"test\")"
      ]
    },
    {
      "cell_type": "code",
      "execution_count": 32,
      "metadata": {
        "id": "DG1jjvCEImrT"
      },
      "outputs": [],
      "source": [
        "dev_df = pd.DataFrame(dev_dataset)\n",
        "train_df = pd.DataFrame(train_dataset)\n",
        "test_df = pd.DataFrame(test_dataset)"
      ]
    },
    {
      "cell_type": "code",
      "execution_count": 11,
      "metadata": {
        "colab": {
          "base_uri": "https://localhost:8080/"
        },
        "id": "tAmmBk_vI8HL",
        "outputId": "759fa70e-23c6-4a37-904d-ef095f1ff2d1"
      },
      "outputs": [
        {
          "output_type": "execute_result",
          "data": {
            "text/plain": [
              "[{'result': [{'from_name': 'label',\n",
              "    'id': '25TFDATV',\n",
              "    'to_name': 'text',\n",
              "    'type': 'labels',\n",
              "    'value': {'end': 22,\n",
              "     'labels': ['STATUTE'],\n",
              "     'start': 10,\n",
              "     'text': 'Constitution'}},\n",
              "   {'from_name': 'label',\n",
              "    'id': 'F706LMQM',\n",
              "    'to_name': 'text',\n",
              "    'type': 'labels',\n",
              "    'value': {'end': 155,\n",
              "     'labels': ['PRECEDENT'],\n",
              "     'start': 108,\n",
              "     'text': 'R.C. Cooper v. Union of India, (1970) 1 SCC 248'}},\n",
              "   {'from_name': 'label',\n",
              "    'id': '2EURBJSZ',\n",
              "    'to_name': 'text',\n",
              "    'type': 'labels',\n",
              "    'value': {'end': 209,\n",
              "     'labels': ['PRECEDENT'],\n",
              "     'start': 160,\n",
              "     'text': 'Maneka Gandhi v. Union of India, (1978) 1 SCC 248'}}]}]"
            ]
          },
          "metadata": {},
          "execution_count": 11
        }
      ],
      "source": [
        "dev_df[\"annotations\"][0]"
      ]
    },
    {
      "cell_type": "code",
      "execution_count": 12,
      "metadata": {
        "colab": {
          "base_uri": "https://localhost:8080/"
        },
        "id": "otTIshttJHzQ",
        "outputId": "28f6b986-859d-47e4-8b6f-d465ca7c6075"
      },
      "outputs": [
        {
          "output_type": "execute_result",
          "data": {
            "text/plain": [
              "{'text': \"True, our Constitution has no 'due process' clause or the VIII Amendment; but, in this branch of law, after R.C. Cooper v. Union of India, (1970) 1 SCC 248 and Maneka Gandhi v. Union of India, (1978) 1 SCC 248, the consequence is the same.\"}"
            ]
          },
          "metadata": {},
          "execution_count": 12
        }
      ],
      "source": [
        "dev_df[\"data\"][0]"
      ]
    },
    {
      "cell_type": "code",
      "execution_count": 13,
      "metadata": {
        "id": "xa2pTWxRL_mj"
      },
      "outputs": [],
      "source": [
        "tags = [\n",
        "    \"COURT\",\n",
        "    \"PETITIONER\",\n",
        "    \"RESPONDENT\",\n",
        "    \"JUDGE\",\n",
        "    \"LAWYER\",\n",
        "    \"DATE\",\n",
        "    \"ORG\",\n",
        "    \"GPE\",\n",
        "    \"STATUTE\",\n",
        "    \"PROVISION\",\n",
        "    \"PRECEDENT\",\n",
        "    \"CASE_NUMBER\",\n",
        "    \"WITNESS\",\n",
        "    \"OTHER_PERSON\",\n",
        "]\n",
        "\n",
        "ner_tags = [\"O\"] + [item for x in tags for item in (f\"B-{x}\", f\"I-{x}\")]\n",
        "index2tag = {idx: tag for idx, tag in enumerate(ner_tags)}\n",
        "tag2index = {tag: idx for idx, tag in enumerate(ner_tags)}"
      ]
    },
    {
      "cell_type": "code",
      "source": [
        "ner_tags"
      ],
      "metadata": {
        "colab": {
          "base_uri": "https://localhost:8080/"
        },
        "id": "NvJMaW-dNsAj",
        "outputId": "126ff127-ebe3-423d-88c5-4e6aaf9cc6a2"
      },
      "execution_count": 16,
      "outputs": [
        {
          "output_type": "execute_result",
          "data": {
            "text/plain": [
              "['O',\n",
              " 'B-COURT',\n",
              " 'I-COURT',\n",
              " 'B-PETITIONER',\n",
              " 'I-PETITIONER',\n",
              " 'B-RESPONDENT',\n",
              " 'I-RESPONDENT',\n",
              " 'B-JUDGE',\n",
              " 'I-JUDGE',\n",
              " 'B-LAWYER',\n",
              " 'I-LAWYER',\n",
              " 'B-DATE',\n",
              " 'I-DATE',\n",
              " 'B-ORG',\n",
              " 'I-ORG',\n",
              " 'B-GPE',\n",
              " 'I-GPE',\n",
              " 'B-STATUTE',\n",
              " 'I-STATUTE',\n",
              " 'B-PROVISION',\n",
              " 'I-PROVISION',\n",
              " 'B-PRECEDENT',\n",
              " 'I-PRECEDENT',\n",
              " 'B-CASE_NUMBER',\n",
              " 'I-CASE_NUMBER',\n",
              " 'B-WITNESS',\n",
              " 'I-WITNESS',\n",
              " 'B-OTHER_PERSON',\n",
              " 'I-OTHER_PERSON']"
            ]
          },
          "metadata": {},
          "execution_count": 16
        }
      ]
    },
    {
      "cell_type": "code",
      "source": [
        "index2tag"
      ],
      "metadata": {
        "colab": {
          "base_uri": "https://localhost:8080/"
        },
        "id": "7LfCpnOYNu6Y",
        "outputId": "7cf2e0de-1291-4c5d-cdc4-63373616bd4a"
      },
      "execution_count": 17,
      "outputs": [
        {
          "output_type": "execute_result",
          "data": {
            "text/plain": [
              "{0: 'O',\n",
              " 1: 'B-COURT',\n",
              " 2: 'I-COURT',\n",
              " 3: 'B-PETITIONER',\n",
              " 4: 'I-PETITIONER',\n",
              " 5: 'B-RESPONDENT',\n",
              " 6: 'I-RESPONDENT',\n",
              " 7: 'B-JUDGE',\n",
              " 8: 'I-JUDGE',\n",
              " 9: 'B-LAWYER',\n",
              " 10: 'I-LAWYER',\n",
              " 11: 'B-DATE',\n",
              " 12: 'I-DATE',\n",
              " 13: 'B-ORG',\n",
              " 14: 'I-ORG',\n",
              " 15: 'B-GPE',\n",
              " 16: 'I-GPE',\n",
              " 17: 'B-STATUTE',\n",
              " 18: 'I-STATUTE',\n",
              " 19: 'B-PROVISION',\n",
              " 20: 'I-PROVISION',\n",
              " 21: 'B-PRECEDENT',\n",
              " 22: 'I-PRECEDENT',\n",
              " 23: 'B-CASE_NUMBER',\n",
              " 24: 'I-CASE_NUMBER',\n",
              " 25: 'B-WITNESS',\n",
              " 26: 'I-WITNESS',\n",
              " 27: 'B-OTHER_PERSON',\n",
              " 28: 'I-OTHER_PERSON'}"
            ]
          },
          "metadata": {},
          "execution_count": 17
        }
      ]
    },
    {
      "cell_type": "code",
      "source": [
        "tag2index"
      ],
      "metadata": {
        "colab": {
          "base_uri": "https://localhost:8080/"
        },
        "id": "Ij-qnQPuNwE_",
        "outputId": "ea0c5921-75bd-4c62-817b-cbc23b6c3ea1"
      },
      "execution_count": 18,
      "outputs": [
        {
          "output_type": "execute_result",
          "data": {
            "text/plain": [
              "{'O': 0,\n",
              " 'B-COURT': 1,\n",
              " 'I-COURT': 2,\n",
              " 'B-PETITIONER': 3,\n",
              " 'I-PETITIONER': 4,\n",
              " 'B-RESPONDENT': 5,\n",
              " 'I-RESPONDENT': 6,\n",
              " 'B-JUDGE': 7,\n",
              " 'I-JUDGE': 8,\n",
              " 'B-LAWYER': 9,\n",
              " 'I-LAWYER': 10,\n",
              " 'B-DATE': 11,\n",
              " 'I-DATE': 12,\n",
              " 'B-ORG': 13,\n",
              " 'I-ORG': 14,\n",
              " 'B-GPE': 15,\n",
              " 'I-GPE': 16,\n",
              " 'B-STATUTE': 17,\n",
              " 'I-STATUTE': 18,\n",
              " 'B-PROVISION': 19,\n",
              " 'I-PROVISION': 20,\n",
              " 'B-PRECEDENT': 21,\n",
              " 'I-PRECEDENT': 22,\n",
              " 'B-CASE_NUMBER': 23,\n",
              " 'I-CASE_NUMBER': 24,\n",
              " 'B-WITNESS': 25,\n",
              " 'I-WITNESS': 26,\n",
              " 'B-OTHER_PERSON': 27,\n",
              " 'I-OTHER_PERSON': 28}"
            ]
          },
          "metadata": {},
          "execution_count": 18
        }
      ]
    },
    {
      "cell_type": "code",
      "execution_count": 52,
      "metadata": {
        "id": "qHH3uye_HFht"
      },
      "outputs": [],
      "source": [
        "def tokenize_with_positions(text):\n",
        "    tokens_with_positions = {}\n",
        "    tokens = word_tokenize(text)\n",
        "\n",
        "    # NLTK converts double quotes during tokenization\n",
        "    tokens = ['\"' if token == \"''\" or token == \"``\" else token for token in tokens]\n",
        "\n",
        "    start_pos = 0\n",
        "    for index, token in enumerate(tokens):\n",
        "        start_pos = text.find(token, start_pos)\n",
        "\n",
        "        tokens_with_positions[start_pos] = {\n",
        "            \"token\": token,\n",
        "            \"index\": index\n",
        "        }\n",
        "        start_pos += len(token)\n",
        "\n",
        "    return tokens, tokens_with_positions\n",
        "\n",
        "def assign_labels(tokens, tokens_with_positions, annotations):\n",
        "    positions = tokens_with_positions.keys()\n",
        "    labels = [\"O\"] * len(tokens)\n",
        "    indices = [0] * len(tokens)\n",
        "\n",
        "    for annotation in annotations:\n",
        "        annotation_value = annotation[\"value\"]\n",
        "        label = annotation_value[\"labels\"][0]\n",
        "        start = annotation_value[\"start\"]\n",
        "        end = annotation_value[\"end\"]\n",
        "        filtered_positions = [x for x in positions if start <= x < end]\n",
        "\n",
        "        i_flag = False\n",
        "\n",
        "        for position in filtered_positions:\n",
        "            if i_flag:\n",
        "                prefixed_label = f\"I-{label}\"\n",
        "            else:\n",
        "                prefixed_label = f\"B-{label}\"\n",
        "                i_flag = True\n",
        "\n",
        "            token_index = tokens_with_positions[position][\"index\"]\n",
        "            labels[token_index] = prefixed_label\n",
        "            indices[token_index] = tag2index[prefixed_label]\n",
        "\n",
        "    return labels, indices\n",
        "\n",
        "def process_row(row):\n",
        "    text = row[\"data\"][\"text\"]\n",
        "    annotations = row[\"annotations\"][0][\"result\"]\n",
        "\n",
        "    tokens, tokens_with_positions = tokenize_with_positions(text)\n",
        "\n",
        "    labels, indices = assign_labels(tokens, tokens_with_positions, annotations)\n",
        "\n",
        "    return pd.Series([tokens, labels, indices], index=[\"tokens\", \"tags\", \"indices\"])\n",
        "\n",
        "def convert_format(df):\n",
        "    df = df[[\"annotations\", \"data\"]]\n",
        "    df = df.apply(process_row, axis=1)\n",
        "    return df"
      ]
    },
    {
      "cell_type": "code",
      "execution_count": 53,
      "metadata": {
        "id": "WfMNY71EHwE2"
      },
      "outputs": [],
      "source": [
        "dev_df_formatted = convert_format(dev_df)\n",
        "train_df_formatted = convert_format(train_df)\n",
        "test_df_formatted = convert_format(test_df)"
      ]
    },
    {
      "cell_type": "code",
      "source": [
        "from collections import Counter\n",
        "\n",
        "def count_tags_in_df(df):\n",
        "    tag_counts = Counter()\n",
        "    for tags_list in df['tags']:\n",
        "        for tag in tags_list:\n",
        "            tag_counts[tag] += 1\n",
        "\n",
        "    return tag_counts"
      ],
      "metadata": {
        "id": "4Gkh0eQ9M5uT"
      },
      "execution_count": 64,
      "outputs": []
    },
    {
      "cell_type": "code",
      "source": [
        "from collections import Counter\n",
        "\n",
        "def count_unique_tags_in_df(df):\n",
        "    tag_counts = Counter()\n",
        "\n",
        "    for tags_list in df['tags']:\n",
        "        for tag in tags_list:\n",
        "            if tag != 'O':\n",
        "                tag = tag[2:]\n",
        "\n",
        "            tag_counts[tag] += 1\n",
        "\n",
        "    return tag_counts"
      ],
      "metadata": {
        "id": "TDHi1e_cRL1J"
      },
      "execution_count": 65,
      "outputs": []
    },
    {
      "cell_type": "code",
      "source": [
        "from tabulate import tabulate\n",
        "\n",
        "def tabulate_and_print(df, function):\n",
        "    tag_counts = function(df)\n",
        "    table_data = []\n",
        "    for tag, count in tag_counts.items():\n",
        "        table_data.append([tag, count])\n",
        "\n",
        "    print(tabulate(table_data, headers=[\"Tag\", \"Count\"]))"
      ],
      "metadata": {
        "id": "B3EEc5l9OFo5"
      },
      "execution_count": 66,
      "outputs": []
    },
    {
      "cell_type": "code",
      "source": [
        "def tabulate_all(df):\n",
        "    tabulate_and_print(df, count_tags_in_df)\n",
        "\n",
        "def tabulate_unique(df):\n",
        "    tabulate_and_print(df, count_unique_tags_in_df)"
      ],
      "metadata": {
        "id": "OSw68WfGPe8A"
      },
      "execution_count": 67,
      "outputs": []
    },
    {
      "cell_type": "code",
      "source": [
        "tabulate_all(dev_df_formatted)"
      ],
      "metadata": {
        "colab": {
          "base_uri": "https://localhost:8080/"
        },
        "id": "tsary9g-R9E9",
        "outputId": "a4b26901-a349-4e13-f1cf-84ebcb4f488c"
      },
      "execution_count": 73,
      "outputs": [
        {
          "output_type": "stream",
          "name": "stdout",
          "text": [
            "Tag               Count\n",
            "--------------  -------\n",
            "O                 48377\n",
            "B-STATUTE           222\n",
            "B-PRECEDENT         177\n",
            "I-PRECEDENT        2315\n",
            "B-JUDGE             172\n",
            "I-JUDGE             236\n",
            "B-GPE               181\n",
            "B-OTHER_PERSON      273\n",
            "B-DATE              218\n",
            "B-PROVISION         258\n",
            "I-PROVISION         770\n",
            "I-STATUTE           463\n",
            "B-CASE_NUMBER       121\n",
            "I-CASE_NUMBER       437\n",
            "B-COURT             296\n",
            "I-COURT            1071\n",
            "I-DATE              133\n",
            "I-OTHER_PERSON      203\n",
            "B-ORG               159\n",
            "I-ORG               347\n",
            "B-PETITIONER        206\n",
            "I-PETITIONER        483\n",
            "B-WITNESS            54\n",
            "I-WITNESS            58\n",
            "I-GPE                48\n",
            "B-RESPONDENT        307\n",
            "I-RESPONDENT       1097\n",
            "B-LAWYER            545\n",
            "I-LAWYER            656\n"
          ]
        }
      ]
    },
    {
      "cell_type": "code",
      "source": [
        "tabulate_unique(dev_df_formatted)"
      ],
      "metadata": {
        "colab": {
          "base_uri": "https://localhost:8080/"
        },
        "id": "WNdtThbkR_qW",
        "outputId": "a92df5d0-2b79-45f2-a2a8-7778e8a65d74"
      },
      "execution_count": 74,
      "outputs": [
        {
          "output_type": "stream",
          "name": "stdout",
          "text": [
            "Tag             Count\n",
            "------------  -------\n",
            "O               48377\n",
            "STATUTE           685\n",
            "PRECEDENT        2492\n",
            "JUDGE             408\n",
            "GPE               229\n",
            "OTHER_PERSON      476\n",
            "DATE              351\n",
            "PROVISION        1028\n",
            "CASE_NUMBER       558\n",
            "COURT            1367\n",
            "ORG               506\n",
            "PETITIONER        689\n",
            "WITNESS           112\n",
            "RESPONDENT       1404\n",
            "LAWYER           1201\n"
          ]
        }
      ]
    },
    {
      "cell_type": "code",
      "source": [
        "tabulate_all(train_df_formatted)"
      ],
      "metadata": {
        "colab": {
          "base_uri": "https://localhost:8080/"
        },
        "id": "8pYw0O4qRFuJ",
        "outputId": "33366231-12f2-4c66-a77a-88f4f882314e"
      },
      "execution_count": 75,
      "outputs": [
        {
          "output_type": "stream",
          "name": "stdout",
          "text": [
            "Tag               Count\n",
            "--------------  -------\n",
            "O                490506\n",
            "B-ORG              1440\n",
            "I-ORG              2971\n",
            "B-OTHER_PERSON     2598\n",
            "I-OTHER_PERSON     2155\n",
            "B-WITNESS           862\n",
            "I-WITNESS           768\n",
            "B-GPE              1393\n",
            "B-STATUTE          1804\n",
            "B-DATE             1885\n",
            "I-DATE             1937\n",
            "B-PROVISION        2378\n",
            "I-PROVISION        6606\n",
            "I-STATUTE          4005\n",
            "B-COURT            2367\n",
            "I-COURT           10192\n",
            "B-PRECEDENT        1351\n",
            "I-PRECEDENT       14631\n",
            "B-CASE_NUMBER      1038\n",
            "I-CASE_NUMBER      4870\n",
            "I-GPE               288\n",
            "B-PETITIONER       3031\n",
            "I-PETITIONER       5538\n",
            "B-JUDGE            2291\n",
            "I-JUDGE            2290\n",
            "B-RESPONDENT       3811\n",
            "I-RESPONDENT      11044\n",
            "B-LAWYER           2897\n",
            "I-LAWYER           3189\n"
          ]
        }
      ]
    },
    {
      "cell_type": "code",
      "source": [
        "tabulate_unique(train_df_formatted)"
      ],
      "metadata": {
        "colab": {
          "base_uri": "https://localhost:8080/"
        },
        "id": "wmlQeHlESEnK",
        "outputId": "2fea8d2b-b263-4268-dfce-dacdd75ade72"
      },
      "execution_count": 76,
      "outputs": [
        {
          "output_type": "stream",
          "name": "stdout",
          "text": [
            "Tag             Count\n",
            "------------  -------\n",
            "O              490506\n",
            "ORG              4411\n",
            "OTHER_PERSON     4753\n",
            "WITNESS          1630\n",
            "GPE              1681\n",
            "STATUTE          5809\n",
            "DATE             3822\n",
            "PROVISION        8984\n",
            "COURT           12559\n",
            "PRECEDENT       15982\n",
            "CASE_NUMBER      5908\n",
            "PETITIONER       8569\n",
            "JUDGE            4581\n",
            "RESPONDENT      14855\n",
            "LAWYER           6086\n"
          ]
        }
      ]
    },
    {
      "cell_type": "code",
      "source": [
        "tabulate_all(test_df_formatted)"
      ],
      "metadata": {
        "colab": {
          "base_uri": "https://localhost:8080/"
        },
        "id": "cUuYVvCASGLy",
        "outputId": "9ddd41c5-8600-4eb7-9c28-f5f03133f8a5"
      },
      "execution_count": 77,
      "outputs": [
        {
          "output_type": "stream",
          "name": "stdout",
          "text": [
            "Tag               Count\n",
            "--------------  -------\n",
            "O                202810\n",
            "B-COURT            1221\n",
            "I-COURT            3845\n",
            "B-JUDGE             580\n",
            "B-PETITIONER        847\n",
            "I-PETITIONER       1709\n",
            "B-LAWYER           1585\n",
            "I-LAWYER           1711\n",
            "B-RESPONDENT       1061\n",
            "I-RESPONDENT       4406\n",
            "I-JUDGE             693\n",
            "B-OTHER_PERSON     1082\n",
            "B-PROVISION        1215\n",
            "I-PROVISION        3317\n",
            "B-STATUTE           973\n",
            "I-STATUTE          2048\n",
            "B-PRECEDENT         650\n",
            "I-PRECEDENT        8154\n",
            "I-OTHER_PERSON      941\n",
            "B-ORG               912\n",
            "I-ORG              1698\n",
            "B-WITNESS           398\n",
            "I-WITNESS           363\n",
            "B-DATE             1049\n",
            "I-DATE              684\n",
            "B-GPE               713\n",
            "B-CASE_NUMBER       665\n",
            "I-CASE_NUMBER      2470\n",
            "I-GPE               131\n"
          ]
        }
      ]
    },
    {
      "cell_type": "code",
      "source": [
        "tabulate_unique(test_df_formatted)"
      ],
      "metadata": {
        "colab": {
          "base_uri": "https://localhost:8080/"
        },
        "id": "D1t86ylPSHwb",
        "outputId": "dbd4264c-9051-4350-b324-dd1c1b4d86c1"
      },
      "execution_count": 78,
      "outputs": [
        {
          "output_type": "stream",
          "name": "stdout",
          "text": [
            "Tag             Count\n",
            "------------  -------\n",
            "O              202810\n",
            "COURT            5066\n",
            "JUDGE            1273\n",
            "PETITIONER       2556\n",
            "LAWYER           3296\n",
            "RESPONDENT       5467\n",
            "OTHER_PERSON     2023\n",
            "PROVISION        4532\n",
            "STATUTE          3021\n",
            "PRECEDENT        8804\n",
            "ORG              2610\n",
            "WITNESS           761\n",
            "DATE             1733\n",
            "GPE               844\n",
            "CASE_NUMBER      3135\n"
          ]
        }
      ]
    },
    {
      "cell_type": "code",
      "source": [
        "def count_all_os(df):\n",
        "  ctr = 0\n",
        "  for _, row in df.iterrows():\n",
        "      if all(tag == 'O' for tag in row['tags']):\n",
        "          ctr += 1\n",
        "  return ctr"
      ],
      "metadata": {
        "id": "zMPpLArASOec"
      },
      "execution_count": 80,
      "outputs": []
    },
    {
      "cell_type": "code",
      "source": [
        "print(f\"Count of all Os in dev_df_formatted: {count_all_os(dev_df_formatted)}\")\n",
        "print(f\"Count of all Os in train_df_formatted: {count_all_os(train_df_formatted)}\")\n",
        "print(f\"Count of all Os in test_df_formatted: {count_all_os(test_df_formatted)}\")"
      ],
      "metadata": {
        "colab": {
          "base_uri": "https://localhost:8080/"
        },
        "id": "C9LsE5tkSfmi",
        "outputId": "a7550c97-6593-44fd-f80c-10fe7a47840a"
      },
      "execution_count": 81,
      "outputs": [
        {
          "output_type": "stream",
          "name": "stdout",
          "text": [
            "Count of all Os in dev_df_formatted: 184\n",
            "Count of all Os in train_df_formatted: 2197\n",
            "Count of all Os in test_df_formatted: 565\n"
          ]
        }
      ]
    },
    {
      "cell_type": "code",
      "source": [
        "def drop_rows_with_only_o_tags(df):\n",
        "  new_df = df.copy()\n",
        "  rows_to_drop = []\n",
        "  for index, row in new_df.iterrows():\n",
        "    if all(tag == 'O' for tag in row['tags']):\n",
        "      rows_to_drop.append(index)\n",
        "  new_df = new_df.drop(rows_to_drop)\n",
        "  return new_df"
      ],
      "metadata": {
        "id": "cXJRWq7fSstv"
      },
      "execution_count": 82,
      "outputs": []
    },
    {
      "cell_type": "code",
      "source": [
        "dev_df_cleaned = drop_rows_with_only_o_tags(dev_df_formatted)\n",
        "train_df_cleaned = drop_rows_with_only_o_tags(train_df_formatted)\n",
        "test_df_cleaned = drop_rows_with_only_o_tags(test_df_formatted)"
      ],
      "metadata": {
        "id": "-RWE0p27S23W"
      },
      "execution_count": 85,
      "outputs": []
    },
    {
      "cell_type": "code",
      "source": [
        "print(f\"Count of all Os in dev_df_formatted: {count_all_os(dev_df_cleaned)}\")\n",
        "print(f\"Count of all Os in train_df_formatted: {count_all_os(train_df_cleaned)}\")\n",
        "print(f\"Count of all Os in test_df_formatted: {count_all_os(test_df_cleaned)}\")"
      ],
      "metadata": {
        "colab": {
          "base_uri": "https://localhost:8080/"
        },
        "id": "Ipa-F4HgS914",
        "outputId": "f97139e5-d2ab-41cd-fdd7-fffda96e90f1"
      },
      "execution_count": 86,
      "outputs": [
        {
          "output_type": "stream",
          "name": "stdout",
          "text": [
            "Count of all Os in dev_df_formatted: 0\n",
            "Count of all Os in train_df_formatted: 0\n",
            "Count of all Os in test_df_formatted: 0\n"
          ]
        }
      ]
    },
    {
      "cell_type": "code",
      "source": [
        "print(f\"Number of rows in dev_df_cleaned: {len(dev_df_cleaned)}\")\n",
        "print(f\"Number of rows in train_df_cleaned: {len(train_df_cleaned)}\")\n",
        "print(f\"Number of rows in test_df_cleaned: {len(test_df_cleaned)}\")"
      ],
      "metadata": {
        "colab": {
          "base_uri": "https://localhost:8080/"
        },
        "id": "OJu9PJOATGzo",
        "outputId": "8beb9981-c60a-4f02-b902-0e6b00bdd8e2"
      },
      "execution_count": 87,
      "outputs": [
        {
          "output_type": "stream",
          "name": "stdout",
          "text": [
            "Number of rows in dev_df_cleaned: 890\n",
            "Number of rows in train_df_cleaned: 8798\n",
            "Number of rows in test_df_cleaned: 3936\n"
          ]
        }
      ]
    },
    {
      "cell_type": "code",
      "source": [
        "tabulate_all(dev_df_cleaned)"
      ],
      "metadata": {
        "colab": {
          "base_uri": "https://localhost:8080/"
        },
        "id": "JDX89m9oTUHH",
        "outputId": "af9ad64a-00b6-42a9-ca21-f320ff91d11c"
      },
      "execution_count": 88,
      "outputs": [
        {
          "output_type": "stream",
          "name": "stdout",
          "text": [
            "Tag               Count\n",
            "--------------  -------\n",
            "O                 43041\n",
            "B-STATUTE           222\n",
            "B-PRECEDENT         177\n",
            "I-PRECEDENT        2315\n",
            "B-JUDGE             172\n",
            "I-JUDGE             236\n",
            "B-GPE               181\n",
            "B-OTHER_PERSON      273\n",
            "B-DATE              218\n",
            "B-PROVISION         258\n",
            "I-PROVISION         770\n",
            "I-STATUTE           463\n",
            "B-CASE_NUMBER       121\n",
            "I-CASE_NUMBER       437\n",
            "B-COURT             296\n",
            "I-COURT            1071\n",
            "I-DATE              133\n",
            "I-OTHER_PERSON      203\n",
            "B-ORG               159\n",
            "I-ORG               347\n",
            "B-PETITIONER        206\n",
            "I-PETITIONER        483\n",
            "B-WITNESS            54\n",
            "I-WITNESS            58\n",
            "I-GPE                48\n",
            "B-RESPONDENT        307\n",
            "I-RESPONDENT       1097\n",
            "B-LAWYER            545\n",
            "I-LAWYER            656\n"
          ]
        }
      ]
    },
    {
      "cell_type": "code",
      "source": [
        "tabulate_unique(dev_df_cleaned)"
      ],
      "metadata": {
        "colab": {
          "base_uri": "https://localhost:8080/"
        },
        "id": "uh90ISSITYjS",
        "outputId": "5f452bac-12b8-42af-f48b-96eacadb3349"
      },
      "execution_count": 89,
      "outputs": [
        {
          "output_type": "stream",
          "name": "stdout",
          "text": [
            "Tag             Count\n",
            "------------  -------\n",
            "O               43041\n",
            "STATUTE           685\n",
            "PRECEDENT        2492\n",
            "JUDGE             408\n",
            "GPE               229\n",
            "OTHER_PERSON      476\n",
            "DATE              351\n",
            "PROVISION        1028\n",
            "CASE_NUMBER       558\n",
            "COURT            1367\n",
            "ORG               506\n",
            "PETITIONER        689\n",
            "WITNESS           112\n",
            "RESPONDENT       1404\n",
            "LAWYER           1201\n"
          ]
        }
      ]
    },
    {
      "cell_type": "code",
      "source": [
        "tabulate_all(train_df_cleaned)"
      ],
      "metadata": {
        "colab": {
          "base_uri": "https://localhost:8080/"
        },
        "id": "U3lat4z9TZFW",
        "outputId": "15074598-3e64-4d44-90c0-766a63d577cb"
      },
      "execution_count": 90,
      "outputs": [
        {
          "output_type": "stream",
          "name": "stdout",
          "text": [
            "Tag               Count\n",
            "--------------  -------\n",
            "O                427058\n",
            "B-ORG              1440\n",
            "I-ORG              2971\n",
            "B-OTHER_PERSON     2598\n",
            "I-OTHER_PERSON     2155\n",
            "B-WITNESS           862\n",
            "I-WITNESS           768\n",
            "B-GPE              1393\n",
            "B-STATUTE          1804\n",
            "B-DATE             1885\n",
            "I-DATE             1937\n",
            "B-PROVISION        2378\n",
            "I-PROVISION        6606\n",
            "I-STATUTE          4005\n",
            "B-COURT            2367\n",
            "I-COURT           10192\n",
            "B-PRECEDENT        1351\n",
            "I-PRECEDENT       14631\n",
            "B-CASE_NUMBER      1038\n",
            "I-CASE_NUMBER      4870\n",
            "I-GPE               288\n",
            "B-PETITIONER       3031\n",
            "I-PETITIONER       5538\n",
            "B-JUDGE            2291\n",
            "I-JUDGE            2290\n",
            "B-RESPONDENT       3811\n",
            "I-RESPONDENT      11044\n",
            "B-LAWYER           2897\n",
            "I-LAWYER           3189\n"
          ]
        }
      ]
    },
    {
      "cell_type": "code",
      "source": [
        "tabulate_unique(train_df_cleaned)"
      ],
      "metadata": {
        "colab": {
          "base_uri": "https://localhost:8080/"
        },
        "id": "-skjdpliTZsa",
        "outputId": "524f08c7-5501-4b00-f5f0-3344b59b1f75"
      },
      "execution_count": 91,
      "outputs": [
        {
          "output_type": "stream",
          "name": "stdout",
          "text": [
            "Tag             Count\n",
            "------------  -------\n",
            "O              427058\n",
            "ORG              4411\n",
            "OTHER_PERSON     4753\n",
            "WITNESS          1630\n",
            "GPE              1681\n",
            "STATUTE          5809\n",
            "DATE             3822\n",
            "PROVISION        8984\n",
            "COURT           12559\n",
            "PRECEDENT       15982\n",
            "CASE_NUMBER      5908\n",
            "PETITIONER       8569\n",
            "JUDGE            4581\n",
            "RESPONDENT      14855\n",
            "LAWYER           6086\n"
          ]
        }
      ]
    },
    {
      "cell_type": "code",
      "source": [
        "tabulate_all(test_df_cleaned)"
      ],
      "metadata": {
        "colab": {
          "base_uri": "https://localhost:8080/"
        },
        "id": "FN7L-jD0Tbdn",
        "outputId": "8ddb2399-1b5a-4f34-dde0-b8ba15a896e4"
      },
      "execution_count": 92,
      "outputs": [
        {
          "output_type": "stream",
          "name": "stdout",
          "text": [
            "Tag               Count\n",
            "--------------  -------\n",
            "O                186789\n",
            "B-COURT            1221\n",
            "I-COURT            3845\n",
            "B-JUDGE             580\n",
            "B-PETITIONER        847\n",
            "I-PETITIONER       1709\n",
            "B-LAWYER           1585\n",
            "I-LAWYER           1711\n",
            "B-RESPONDENT       1061\n",
            "I-RESPONDENT       4406\n",
            "I-JUDGE             693\n",
            "B-OTHER_PERSON     1082\n",
            "B-PROVISION        1215\n",
            "I-PROVISION        3317\n",
            "B-STATUTE           973\n",
            "I-STATUTE          2048\n",
            "B-PRECEDENT         650\n",
            "I-PRECEDENT        8154\n",
            "I-OTHER_PERSON      941\n",
            "B-ORG               912\n",
            "I-ORG              1698\n",
            "B-WITNESS           398\n",
            "I-WITNESS           363\n",
            "B-DATE             1049\n",
            "I-DATE              684\n",
            "B-GPE               713\n",
            "B-CASE_NUMBER       665\n",
            "I-CASE_NUMBER      2470\n",
            "I-GPE               131\n"
          ]
        }
      ]
    },
    {
      "cell_type": "code",
      "source": [
        "tabulate_unique(test_df_cleaned)"
      ],
      "metadata": {
        "colab": {
          "base_uri": "https://localhost:8080/"
        },
        "id": "T-JVRzS3TdvB",
        "outputId": "deac0393-5786-4a0a-cbe9-1000e1217ddc"
      },
      "execution_count": 93,
      "outputs": [
        {
          "output_type": "stream",
          "name": "stdout",
          "text": [
            "Tag             Count\n",
            "------------  -------\n",
            "O              186789\n",
            "COURT            5066\n",
            "JUDGE            1273\n",
            "PETITIONER       2556\n",
            "LAWYER           3296\n",
            "RESPONDENT       5467\n",
            "OTHER_PERSON     2023\n",
            "PROVISION        4532\n",
            "STATUTE          3021\n",
            "PRECEDENT        8804\n",
            "ORG              2610\n",
            "WITNESS           761\n",
            "DATE             1733\n",
            "GPE               844\n",
            "CASE_NUMBER      3135\n"
          ]
        }
      ]
    },
    {
      "cell_type": "code",
      "source": [
        "dev_df_cleaned.to_json(\"dev_df.json\", orient=\"records\")\n",
        "train_df_cleaned.to_json(\"train_df.json\", orient=\"records\")\n",
        "test_df_cleaned.to_json(\"test_df.json\", orient=\"records\")"
      ],
      "metadata": {
        "id": "PQXKZPAjXdPG"
      },
      "execution_count": 113,
      "outputs": []
    },
    {
      "cell_type": "code",
      "source": [
        "merged_df = pd.concat([dev_df_cleaned, train_df_cleaned, test_df_cleaned], ignore_index=True)\n",
        "\n",
        "merged_df['tokens_tuple'] = merged_df['tokens'].apply(tuple)\n",
        "merged_df = merged_df.drop_duplicates(subset=['tokens_tuple'])\n",
        "merged_df = merged_df.drop(['tokens_tuple'], axis=1)"
      ],
      "metadata": {
        "id": "l_U391G2Xtiu"
      },
      "execution_count": 114,
      "outputs": []
    },
    {
      "cell_type": "code",
      "source": [
        "print(f\"Number of rows in merged_df: {len(merged_df)}\")"
      ],
      "metadata": {
        "colab": {
          "base_uri": "https://localhost:8080/"
        },
        "id": "7H7kmM2EYN2k",
        "outputId": "8af7f87b-6eb2-4bce-b152-63bde3dc2003"
      },
      "execution_count": 118,
      "outputs": [
        {
          "output_type": "stream",
          "name": "stdout",
          "text": [
            "Number of rows in merged_df: 13612\n"
          ]
        }
      ]
    },
    {
      "cell_type": "code",
      "source": [
        "tabulate_all(merged_df)"
      ],
      "metadata": {
        "colab": {
          "base_uri": "https://localhost:8080/"
        },
        "id": "M-z0DzlvYF5x",
        "outputId": "b5a580c7-1c88-45b7-d1d9-452967dacbe6"
      },
      "execution_count": 115,
      "outputs": [
        {
          "output_type": "stream",
          "name": "stdout",
          "text": [
            "Tag               Count\n",
            "--------------  -------\n",
            "O                656147\n",
            "B-STATUTE          2993\n",
            "B-PRECEDENT        2176\n",
            "I-PRECEDENT       25075\n",
            "B-JUDGE            3039\n",
            "I-JUDGE            3214\n",
            "B-GPE              2286\n",
            "B-OTHER_PERSON     3952\n",
            "B-DATE             3150\n",
            "B-PROVISION        3847\n",
            "I-PROVISION       10681\n",
            "I-STATUTE          6503\n",
            "B-CASE_NUMBER      1823\n",
            "I-CASE_NUMBER      7774\n",
            "B-COURT            3878\n",
            "I-COURT           15090\n",
            "I-DATE             2754\n",
            "I-OTHER_PERSON     3298\n",
            "B-ORG              2510\n",
            "I-ORG              5015\n",
            "B-PETITIONER       4082\n",
            "I-PETITIONER       7726\n",
            "B-WITNESS          1314\n",
            "I-WITNESS          1189\n",
            "I-GPE               467\n",
            "B-RESPONDENT       5175\n",
            "I-RESPONDENT      16520\n",
            "B-LAWYER           5025\n",
            "I-LAWYER           5556\n"
          ]
        }
      ]
    },
    {
      "cell_type": "code",
      "source": [
        "tabulate_unique(merged_df)"
      ],
      "metadata": {
        "colab": {
          "base_uri": "https://localhost:8080/"
        },
        "id": "UlD26oX5YGPu",
        "outputId": "d07429a4-9c8d-417b-e719-8a131b63eea6"
      },
      "execution_count": 116,
      "outputs": [
        {
          "output_type": "stream",
          "name": "stdout",
          "text": [
            "Tag             Count\n",
            "------------  -------\n",
            "O              656147\n",
            "STATUTE          9496\n",
            "PRECEDENT       27251\n",
            "JUDGE            6253\n",
            "GPE              2753\n",
            "OTHER_PERSON     7250\n",
            "DATE             5904\n",
            "PROVISION       14528\n",
            "CASE_NUMBER      9597\n",
            "COURT           18968\n",
            "ORG              7525\n",
            "PETITIONER      11808\n",
            "WITNESS          2503\n",
            "RESPONDENT      21695\n",
            "LAWYER          10581\n"
          ]
        }
      ]
    },
    {
      "cell_type": "code",
      "source": [
        "merged_df.to_json(\"merged_df.json\", orient=\"records\")"
      ],
      "metadata": {
        "id": "wCns2E_xYEYd"
      },
      "execution_count": 117,
      "outputs": []
    }
  ],
  "metadata": {
    "colab": {
      "provenance": []
    },
    "kernelspec": {
      "display_name": "Python 3 (ipykernel)",
      "language": "python",
      "name": "python3"
    },
    "language_info": {
      "codemirror_mode": {
        "name": "ipython",
        "version": 3
      },
      "file_extension": ".py",
      "mimetype": "text/x-python",
      "name": "python",
      "nbconvert_exporter": "python",
      "pygments_lexer": "ipython3",
      "version": "3.11.4"
    },
    "widgets": {
      "application/vnd.jupyter.widget-state+json": {
        "17b2579367a24a49bcf1167e700cae79": {
          "model_module": "@jupyter-widgets/controls",
          "model_name": "HBoxModel",
          "model_module_version": "1.5.0",
          "state": {
            "_dom_classes": [],
            "_model_module": "@jupyter-widgets/controls",
            "_model_module_version": "1.5.0",
            "_model_name": "HBoxModel",
            "_view_count": null,
            "_view_module": "@jupyter-widgets/controls",
            "_view_module_version": "1.5.0",
            "_view_name": "HBoxView",
            "box_style": "",
            "children": [
              "IPY_MODEL_e33d61de7de7445b8877bdc5ee898606",
              "IPY_MODEL_d6b069325124405089317003634935fd",
              "IPY_MODEL_cbcb8afb403a4cf89cc9f10dbf46f039"
            ],
            "layout": "IPY_MODEL_a70e25ada3a6485682dff7bf3df6e4c9"
          }
        },
        "e33d61de7de7445b8877bdc5ee898606": {
          "model_module": "@jupyter-widgets/controls",
          "model_name": "HTMLModel",
          "model_module_version": "1.5.0",
          "state": {
            "_dom_classes": [],
            "_model_module": "@jupyter-widgets/controls",
            "_model_module_version": "1.5.0",
            "_model_name": "HTMLModel",
            "_view_count": null,
            "_view_module": "@jupyter-widgets/controls",
            "_view_module_version": "1.5.0",
            "_view_name": "HTMLView",
            "description": "",
            "description_tooltip": null,
            "layout": "IPY_MODEL_92e59fef15e64a2abd166a50439f6f07",
            "placeholder": "​",
            "style": "IPY_MODEL_843191ba1f4f4c1092289b3e6cef8023",
            "value": "README.md: 100%"
          }
        },
        "d6b069325124405089317003634935fd": {
          "model_module": "@jupyter-widgets/controls",
          "model_name": "FloatProgressModel",
          "model_module_version": "1.5.0",
          "state": {
            "_dom_classes": [],
            "_model_module": "@jupyter-widgets/controls",
            "_model_module_version": "1.5.0",
            "_model_name": "FloatProgressModel",
            "_view_count": null,
            "_view_module": "@jupyter-widgets/controls",
            "_view_module_version": "1.5.0",
            "_view_name": "ProgressView",
            "bar_style": "success",
            "description": "",
            "description_tooltip": null,
            "layout": "IPY_MODEL_34152529d60c42e69e903e0b5b7d4cab",
            "max": 3139,
            "min": 0,
            "orientation": "horizontal",
            "style": "IPY_MODEL_f067ae459e164eda8e1065f79930ee32",
            "value": 3139
          }
        },
        "cbcb8afb403a4cf89cc9f10dbf46f039": {
          "model_module": "@jupyter-widgets/controls",
          "model_name": "HTMLModel",
          "model_module_version": "1.5.0",
          "state": {
            "_dom_classes": [],
            "_model_module": "@jupyter-widgets/controls",
            "_model_module_version": "1.5.0",
            "_model_name": "HTMLModel",
            "_view_count": null,
            "_view_module": "@jupyter-widgets/controls",
            "_view_module_version": "1.5.0",
            "_view_name": "HTMLView",
            "description": "",
            "description_tooltip": null,
            "layout": "IPY_MODEL_272bd521a76a44c0835fb8c815e658ca",
            "placeholder": "​",
            "style": "IPY_MODEL_7eb0cba77c394e98a6223df15003a5fc",
            "value": " 3.14k/3.14k [00:00&lt;00:00, 44.0kB/s]"
          }
        },
        "a70e25ada3a6485682dff7bf3df6e4c9": {
          "model_module": "@jupyter-widgets/base",
          "model_name": "LayoutModel",
          "model_module_version": "1.2.0",
          "state": {
            "_model_module": "@jupyter-widgets/base",
            "_model_module_version": "1.2.0",
            "_model_name": "LayoutModel",
            "_view_count": null,
            "_view_module": "@jupyter-widgets/base",
            "_view_module_version": "1.2.0",
            "_view_name": "LayoutView",
            "align_content": null,
            "align_items": null,
            "align_self": null,
            "border": null,
            "bottom": null,
            "display": null,
            "flex": null,
            "flex_flow": null,
            "grid_area": null,
            "grid_auto_columns": null,
            "grid_auto_flow": null,
            "grid_auto_rows": null,
            "grid_column": null,
            "grid_gap": null,
            "grid_row": null,
            "grid_template_areas": null,
            "grid_template_columns": null,
            "grid_template_rows": null,
            "height": null,
            "justify_content": null,
            "justify_items": null,
            "left": null,
            "margin": null,
            "max_height": null,
            "max_width": null,
            "min_height": null,
            "min_width": null,
            "object_fit": null,
            "object_position": null,
            "order": null,
            "overflow": null,
            "overflow_x": null,
            "overflow_y": null,
            "padding": null,
            "right": null,
            "top": null,
            "visibility": null,
            "width": null
          }
        },
        "92e59fef15e64a2abd166a50439f6f07": {
          "model_module": "@jupyter-widgets/base",
          "model_name": "LayoutModel",
          "model_module_version": "1.2.0",
          "state": {
            "_model_module": "@jupyter-widgets/base",
            "_model_module_version": "1.2.0",
            "_model_name": "LayoutModel",
            "_view_count": null,
            "_view_module": "@jupyter-widgets/base",
            "_view_module_version": "1.2.0",
            "_view_name": "LayoutView",
            "align_content": null,
            "align_items": null,
            "align_self": null,
            "border": null,
            "bottom": null,
            "display": null,
            "flex": null,
            "flex_flow": null,
            "grid_area": null,
            "grid_auto_columns": null,
            "grid_auto_flow": null,
            "grid_auto_rows": null,
            "grid_column": null,
            "grid_gap": null,
            "grid_row": null,
            "grid_template_areas": null,
            "grid_template_columns": null,
            "grid_template_rows": null,
            "height": null,
            "justify_content": null,
            "justify_items": null,
            "left": null,
            "margin": null,
            "max_height": null,
            "max_width": null,
            "min_height": null,
            "min_width": null,
            "object_fit": null,
            "object_position": null,
            "order": null,
            "overflow": null,
            "overflow_x": null,
            "overflow_y": null,
            "padding": null,
            "right": null,
            "top": null,
            "visibility": null,
            "width": null
          }
        },
        "843191ba1f4f4c1092289b3e6cef8023": {
          "model_module": "@jupyter-widgets/controls",
          "model_name": "DescriptionStyleModel",
          "model_module_version": "1.5.0",
          "state": {
            "_model_module": "@jupyter-widgets/controls",
            "_model_module_version": "1.5.0",
            "_model_name": "DescriptionStyleModel",
            "_view_count": null,
            "_view_module": "@jupyter-widgets/base",
            "_view_module_version": "1.2.0",
            "_view_name": "StyleView",
            "description_width": ""
          }
        },
        "34152529d60c42e69e903e0b5b7d4cab": {
          "model_module": "@jupyter-widgets/base",
          "model_name": "LayoutModel",
          "model_module_version": "1.2.0",
          "state": {
            "_model_module": "@jupyter-widgets/base",
            "_model_module_version": "1.2.0",
            "_model_name": "LayoutModel",
            "_view_count": null,
            "_view_module": "@jupyter-widgets/base",
            "_view_module_version": "1.2.0",
            "_view_name": "LayoutView",
            "align_content": null,
            "align_items": null,
            "align_self": null,
            "border": null,
            "bottom": null,
            "display": null,
            "flex": null,
            "flex_flow": null,
            "grid_area": null,
            "grid_auto_columns": null,
            "grid_auto_flow": null,
            "grid_auto_rows": null,
            "grid_column": null,
            "grid_gap": null,
            "grid_row": null,
            "grid_template_areas": null,
            "grid_template_columns": null,
            "grid_template_rows": null,
            "height": null,
            "justify_content": null,
            "justify_items": null,
            "left": null,
            "margin": null,
            "max_height": null,
            "max_width": null,
            "min_height": null,
            "min_width": null,
            "object_fit": null,
            "object_position": null,
            "order": null,
            "overflow": null,
            "overflow_x": null,
            "overflow_y": null,
            "padding": null,
            "right": null,
            "top": null,
            "visibility": null,
            "width": null
          }
        },
        "f067ae459e164eda8e1065f79930ee32": {
          "model_module": "@jupyter-widgets/controls",
          "model_name": "ProgressStyleModel",
          "model_module_version": "1.5.0",
          "state": {
            "_model_module": "@jupyter-widgets/controls",
            "_model_module_version": "1.5.0",
            "_model_name": "ProgressStyleModel",
            "_view_count": null,
            "_view_module": "@jupyter-widgets/base",
            "_view_module_version": "1.2.0",
            "_view_name": "StyleView",
            "bar_color": null,
            "description_width": ""
          }
        },
        "272bd521a76a44c0835fb8c815e658ca": {
          "model_module": "@jupyter-widgets/base",
          "model_name": "LayoutModel",
          "model_module_version": "1.2.0",
          "state": {
            "_model_module": "@jupyter-widgets/base",
            "_model_module_version": "1.2.0",
            "_model_name": "LayoutModel",
            "_view_count": null,
            "_view_module": "@jupyter-widgets/base",
            "_view_module_version": "1.2.0",
            "_view_name": "LayoutView",
            "align_content": null,
            "align_items": null,
            "align_self": null,
            "border": null,
            "bottom": null,
            "display": null,
            "flex": null,
            "flex_flow": null,
            "grid_area": null,
            "grid_auto_columns": null,
            "grid_auto_flow": null,
            "grid_auto_rows": null,
            "grid_column": null,
            "grid_gap": null,
            "grid_row": null,
            "grid_template_areas": null,
            "grid_template_columns": null,
            "grid_template_rows": null,
            "height": null,
            "justify_content": null,
            "justify_items": null,
            "left": null,
            "margin": null,
            "max_height": null,
            "max_width": null,
            "min_height": null,
            "min_width": null,
            "object_fit": null,
            "object_position": null,
            "order": null,
            "overflow": null,
            "overflow_x": null,
            "overflow_y": null,
            "padding": null,
            "right": null,
            "top": null,
            "visibility": null,
            "width": null
          }
        },
        "7eb0cba77c394e98a6223df15003a5fc": {
          "model_module": "@jupyter-widgets/controls",
          "model_name": "DescriptionStyleModel",
          "model_module_version": "1.5.0",
          "state": {
            "_model_module": "@jupyter-widgets/controls",
            "_model_module_version": "1.5.0",
            "_model_name": "DescriptionStyleModel",
            "_view_count": null,
            "_view_module": "@jupyter-widgets/base",
            "_view_module_version": "1.2.0",
            "_view_name": "StyleView",
            "description_width": ""
          }
        },
        "44fabdc32d124516a62479205b4d2701": {
          "model_module": "@jupyter-widgets/controls",
          "model_name": "HBoxModel",
          "model_module_version": "1.5.0",
          "state": {
            "_dom_classes": [],
            "_model_module": "@jupyter-widgets/controls",
            "_model_module_version": "1.5.0",
            "_model_name": "HBoxModel",
            "_view_count": null,
            "_view_module": "@jupyter-widgets/controls",
            "_view_module_version": "1.5.0",
            "_view_name": "HBoxView",
            "box_style": "",
            "children": [
              "IPY_MODEL_c2b415a19c3047de9762030b85e27c60",
              "IPY_MODEL_57ac318069314332aa7a40f501a06bb8",
              "IPY_MODEL_ed26e2d952ec4052827863b8756e680c"
            ],
            "layout": "IPY_MODEL_d13bdbd238964d4cba5f10b034dc4e57"
          }
        },
        "c2b415a19c3047de9762030b85e27c60": {
          "model_module": "@jupyter-widgets/controls",
          "model_name": "HTMLModel",
          "model_module_version": "1.5.0",
          "state": {
            "_dom_classes": [],
            "_model_module": "@jupyter-widgets/controls",
            "_model_module_version": "1.5.0",
            "_model_name": "HTMLModel",
            "_view_count": null,
            "_view_module": "@jupyter-widgets/controls",
            "_view_module_version": "1.5.0",
            "_view_name": "HTMLView",
            "description": "",
            "description_tooltip": null,
            "layout": "IPY_MODEL_ac36692fb38c4059b59279a872e7b581",
            "placeholder": "​",
            "style": "IPY_MODEL_dffdd88ef5ab4c268eef9525c35e9539",
            "value": "(…)-00000-of-00001-de25c1ae1db42f79.parquet: 100%"
          }
        },
        "57ac318069314332aa7a40f501a06bb8": {
          "model_module": "@jupyter-widgets/controls",
          "model_name": "FloatProgressModel",
          "model_module_version": "1.5.0",
          "state": {
            "_dom_classes": [],
            "_model_module": "@jupyter-widgets/controls",
            "_model_module_version": "1.5.0",
            "_model_name": "FloatProgressModel",
            "_view_count": null,
            "_view_module": "@jupyter-widgets/controls",
            "_view_module_version": "1.5.0",
            "_view_name": "ProgressView",
            "bar_style": "success",
            "description": "",
            "description_tooltip": null,
            "layout": "IPY_MODEL_873bb299561842739dd08dcbfb4da3e9",
            "max": 3534810,
            "min": 0,
            "orientation": "horizontal",
            "style": "IPY_MODEL_78e7a5ae590b474d85fd463a9616c1a6",
            "value": 3534810
          }
        },
        "ed26e2d952ec4052827863b8756e680c": {
          "model_module": "@jupyter-widgets/controls",
          "model_name": "HTMLModel",
          "model_module_version": "1.5.0",
          "state": {
            "_dom_classes": [],
            "_model_module": "@jupyter-widgets/controls",
            "_model_module_version": "1.5.0",
            "_model_name": "HTMLModel",
            "_view_count": null,
            "_view_module": "@jupyter-widgets/controls",
            "_view_module_version": "1.5.0",
            "_view_name": "HTMLView",
            "description": "",
            "description_tooltip": null,
            "layout": "IPY_MODEL_62fee87df31d47eda1be5f37535eba53",
            "placeholder": "​",
            "style": "IPY_MODEL_cd93dc0d92fb4a90af7aa1c7210eccb4",
            "value": " 3.53M/3.53M [00:00&lt;00:00, 9.88MB/s]"
          }
        },
        "d13bdbd238964d4cba5f10b034dc4e57": {
          "model_module": "@jupyter-widgets/base",
          "model_name": "LayoutModel",
          "model_module_version": "1.2.0",
          "state": {
            "_model_module": "@jupyter-widgets/base",
            "_model_module_version": "1.2.0",
            "_model_name": "LayoutModel",
            "_view_count": null,
            "_view_module": "@jupyter-widgets/base",
            "_view_module_version": "1.2.0",
            "_view_name": "LayoutView",
            "align_content": null,
            "align_items": null,
            "align_self": null,
            "border": null,
            "bottom": null,
            "display": null,
            "flex": null,
            "flex_flow": null,
            "grid_area": null,
            "grid_auto_columns": null,
            "grid_auto_flow": null,
            "grid_auto_rows": null,
            "grid_column": null,
            "grid_gap": null,
            "grid_row": null,
            "grid_template_areas": null,
            "grid_template_columns": null,
            "grid_template_rows": null,
            "height": null,
            "justify_content": null,
            "justify_items": null,
            "left": null,
            "margin": null,
            "max_height": null,
            "max_width": null,
            "min_height": null,
            "min_width": null,
            "object_fit": null,
            "object_position": null,
            "order": null,
            "overflow": null,
            "overflow_x": null,
            "overflow_y": null,
            "padding": null,
            "right": null,
            "top": null,
            "visibility": null,
            "width": null
          }
        },
        "ac36692fb38c4059b59279a872e7b581": {
          "model_module": "@jupyter-widgets/base",
          "model_name": "LayoutModel",
          "model_module_version": "1.2.0",
          "state": {
            "_model_module": "@jupyter-widgets/base",
            "_model_module_version": "1.2.0",
            "_model_name": "LayoutModel",
            "_view_count": null,
            "_view_module": "@jupyter-widgets/base",
            "_view_module_version": "1.2.0",
            "_view_name": "LayoutView",
            "align_content": null,
            "align_items": null,
            "align_self": null,
            "border": null,
            "bottom": null,
            "display": null,
            "flex": null,
            "flex_flow": null,
            "grid_area": null,
            "grid_auto_columns": null,
            "grid_auto_flow": null,
            "grid_auto_rows": null,
            "grid_column": null,
            "grid_gap": null,
            "grid_row": null,
            "grid_template_areas": null,
            "grid_template_columns": null,
            "grid_template_rows": null,
            "height": null,
            "justify_content": null,
            "justify_items": null,
            "left": null,
            "margin": null,
            "max_height": null,
            "max_width": null,
            "min_height": null,
            "min_width": null,
            "object_fit": null,
            "object_position": null,
            "order": null,
            "overflow": null,
            "overflow_x": null,
            "overflow_y": null,
            "padding": null,
            "right": null,
            "top": null,
            "visibility": null,
            "width": null
          }
        },
        "dffdd88ef5ab4c268eef9525c35e9539": {
          "model_module": "@jupyter-widgets/controls",
          "model_name": "DescriptionStyleModel",
          "model_module_version": "1.5.0",
          "state": {
            "_model_module": "@jupyter-widgets/controls",
            "_model_module_version": "1.5.0",
            "_model_name": "DescriptionStyleModel",
            "_view_count": null,
            "_view_module": "@jupyter-widgets/base",
            "_view_module_version": "1.2.0",
            "_view_name": "StyleView",
            "description_width": ""
          }
        },
        "873bb299561842739dd08dcbfb4da3e9": {
          "model_module": "@jupyter-widgets/base",
          "model_name": "LayoutModel",
          "model_module_version": "1.2.0",
          "state": {
            "_model_module": "@jupyter-widgets/base",
            "_model_module_version": "1.2.0",
            "_model_name": "LayoutModel",
            "_view_count": null,
            "_view_module": "@jupyter-widgets/base",
            "_view_module_version": "1.2.0",
            "_view_name": "LayoutView",
            "align_content": null,
            "align_items": null,
            "align_self": null,
            "border": null,
            "bottom": null,
            "display": null,
            "flex": null,
            "flex_flow": null,
            "grid_area": null,
            "grid_auto_columns": null,
            "grid_auto_flow": null,
            "grid_auto_rows": null,
            "grid_column": null,
            "grid_gap": null,
            "grid_row": null,
            "grid_template_areas": null,
            "grid_template_columns": null,
            "grid_template_rows": null,
            "height": null,
            "justify_content": null,
            "justify_items": null,
            "left": null,
            "margin": null,
            "max_height": null,
            "max_width": null,
            "min_height": null,
            "min_width": null,
            "object_fit": null,
            "object_position": null,
            "order": null,
            "overflow": null,
            "overflow_x": null,
            "overflow_y": null,
            "padding": null,
            "right": null,
            "top": null,
            "visibility": null,
            "width": null
          }
        },
        "78e7a5ae590b474d85fd463a9616c1a6": {
          "model_module": "@jupyter-widgets/controls",
          "model_name": "ProgressStyleModel",
          "model_module_version": "1.5.0",
          "state": {
            "_model_module": "@jupyter-widgets/controls",
            "_model_module_version": "1.5.0",
            "_model_name": "ProgressStyleModel",
            "_view_count": null,
            "_view_module": "@jupyter-widgets/base",
            "_view_module_version": "1.2.0",
            "_view_name": "StyleView",
            "bar_color": null,
            "description_width": ""
          }
        },
        "62fee87df31d47eda1be5f37535eba53": {
          "model_module": "@jupyter-widgets/base",
          "model_name": "LayoutModel",
          "model_module_version": "1.2.0",
          "state": {
            "_model_module": "@jupyter-widgets/base",
            "_model_module_version": "1.2.0",
            "_model_name": "LayoutModel",
            "_view_count": null,
            "_view_module": "@jupyter-widgets/base",
            "_view_module_version": "1.2.0",
            "_view_name": "LayoutView",
            "align_content": null,
            "align_items": null,
            "align_self": null,
            "border": null,
            "bottom": null,
            "display": null,
            "flex": null,
            "flex_flow": null,
            "grid_area": null,
            "grid_auto_columns": null,
            "grid_auto_flow": null,
            "grid_auto_rows": null,
            "grid_column": null,
            "grid_gap": null,
            "grid_row": null,
            "grid_template_areas": null,
            "grid_template_columns": null,
            "grid_template_rows": null,
            "height": null,
            "justify_content": null,
            "justify_items": null,
            "left": null,
            "margin": null,
            "max_height": null,
            "max_width": null,
            "min_height": null,
            "min_width": null,
            "object_fit": null,
            "object_position": null,
            "order": null,
            "overflow": null,
            "overflow_x": null,
            "overflow_y": null,
            "padding": null,
            "right": null,
            "top": null,
            "visibility": null,
            "width": null
          }
        },
        "cd93dc0d92fb4a90af7aa1c7210eccb4": {
          "model_module": "@jupyter-widgets/controls",
          "model_name": "DescriptionStyleModel",
          "model_module_version": "1.5.0",
          "state": {
            "_model_module": "@jupyter-widgets/controls",
            "_model_module_version": "1.5.0",
            "_model_name": "DescriptionStyleModel",
            "_view_count": null,
            "_view_module": "@jupyter-widgets/base",
            "_view_module_version": "1.2.0",
            "_view_name": "StyleView",
            "description_width": ""
          }
        },
        "d762125685974b10976af9327635a5e8": {
          "model_module": "@jupyter-widgets/controls",
          "model_name": "HBoxModel",
          "model_module_version": "1.5.0",
          "state": {
            "_dom_classes": [],
            "_model_module": "@jupyter-widgets/controls",
            "_model_module_version": "1.5.0",
            "_model_name": "HBoxModel",
            "_view_count": null,
            "_view_module": "@jupyter-widgets/controls",
            "_view_module_version": "1.5.0",
            "_view_name": "HBoxView",
            "box_style": "",
            "children": [
              "IPY_MODEL_5dc28162ff7c4a03978746eea252769a",
              "IPY_MODEL_b8af6e48bf4a4a368ab8a5f74bb446d8",
              "IPY_MODEL_d3b1d7dab46a409ca134fd57342a65e4"
            ],
            "layout": "IPY_MODEL_38743ac32fdd4a18b52b876fa8fff6dc"
          }
        },
        "5dc28162ff7c4a03978746eea252769a": {
          "model_module": "@jupyter-widgets/controls",
          "model_name": "HTMLModel",
          "model_module_version": "1.5.0",
          "state": {
            "_dom_classes": [],
            "_model_module": "@jupyter-widgets/controls",
            "_model_module_version": "1.5.0",
            "_model_name": "HTMLModel",
            "_view_count": null,
            "_view_module": "@jupyter-widgets/controls",
            "_view_module_version": "1.5.0",
            "_view_name": "HTMLView",
            "description": "",
            "description_tooltip": null,
            "layout": "IPY_MODEL_aec45d57cd3b464390e0366d3393f565",
            "placeholder": "​",
            "style": "IPY_MODEL_c7115b46b5d04a88a18318aae60d76ec",
            "value": "(…)-00000-of-00001-b148266485fd7aeb.parquet: 100%"
          }
        },
        "b8af6e48bf4a4a368ab8a5f74bb446d8": {
          "model_module": "@jupyter-widgets/controls",
          "model_name": "FloatProgressModel",
          "model_module_version": "1.5.0",
          "state": {
            "_dom_classes": [],
            "_model_module": "@jupyter-widgets/controls",
            "_model_module_version": "1.5.0",
            "_model_name": "FloatProgressModel",
            "_view_count": null,
            "_view_module": "@jupyter-widgets/controls",
            "_view_module_version": "1.5.0",
            "_view_name": "ProgressView",
            "bar_style": "success",
            "description": "",
            "description_tooltip": null,
            "layout": "IPY_MODEL_3a7658aca9c3454aabb7a10623bf7afb",
            "max": 388568,
            "min": 0,
            "orientation": "horizontal",
            "style": "IPY_MODEL_b36fb605b1584e0499fd5394904a0553",
            "value": 388568
          }
        },
        "d3b1d7dab46a409ca134fd57342a65e4": {
          "model_module": "@jupyter-widgets/controls",
          "model_name": "HTMLModel",
          "model_module_version": "1.5.0",
          "state": {
            "_dom_classes": [],
            "_model_module": "@jupyter-widgets/controls",
            "_model_module_version": "1.5.0",
            "_model_name": "HTMLModel",
            "_view_count": null,
            "_view_module": "@jupyter-widgets/controls",
            "_view_module_version": "1.5.0",
            "_view_name": "HTMLView",
            "description": "",
            "description_tooltip": null,
            "layout": "IPY_MODEL_4bcfe36f28eb4affb99603dd41751cb7",
            "placeholder": "​",
            "style": "IPY_MODEL_718422a7e49745bf99cefc44dc8415ed",
            "value": " 389k/389k [00:00&lt;00:00, 5.12MB/s]"
          }
        },
        "38743ac32fdd4a18b52b876fa8fff6dc": {
          "model_module": "@jupyter-widgets/base",
          "model_name": "LayoutModel",
          "model_module_version": "1.2.0",
          "state": {
            "_model_module": "@jupyter-widgets/base",
            "_model_module_version": "1.2.0",
            "_model_name": "LayoutModel",
            "_view_count": null,
            "_view_module": "@jupyter-widgets/base",
            "_view_module_version": "1.2.0",
            "_view_name": "LayoutView",
            "align_content": null,
            "align_items": null,
            "align_self": null,
            "border": null,
            "bottom": null,
            "display": null,
            "flex": null,
            "flex_flow": null,
            "grid_area": null,
            "grid_auto_columns": null,
            "grid_auto_flow": null,
            "grid_auto_rows": null,
            "grid_column": null,
            "grid_gap": null,
            "grid_row": null,
            "grid_template_areas": null,
            "grid_template_columns": null,
            "grid_template_rows": null,
            "height": null,
            "justify_content": null,
            "justify_items": null,
            "left": null,
            "margin": null,
            "max_height": null,
            "max_width": null,
            "min_height": null,
            "min_width": null,
            "object_fit": null,
            "object_position": null,
            "order": null,
            "overflow": null,
            "overflow_x": null,
            "overflow_y": null,
            "padding": null,
            "right": null,
            "top": null,
            "visibility": null,
            "width": null
          }
        },
        "aec45d57cd3b464390e0366d3393f565": {
          "model_module": "@jupyter-widgets/base",
          "model_name": "LayoutModel",
          "model_module_version": "1.2.0",
          "state": {
            "_model_module": "@jupyter-widgets/base",
            "_model_module_version": "1.2.0",
            "_model_name": "LayoutModel",
            "_view_count": null,
            "_view_module": "@jupyter-widgets/base",
            "_view_module_version": "1.2.0",
            "_view_name": "LayoutView",
            "align_content": null,
            "align_items": null,
            "align_self": null,
            "border": null,
            "bottom": null,
            "display": null,
            "flex": null,
            "flex_flow": null,
            "grid_area": null,
            "grid_auto_columns": null,
            "grid_auto_flow": null,
            "grid_auto_rows": null,
            "grid_column": null,
            "grid_gap": null,
            "grid_row": null,
            "grid_template_areas": null,
            "grid_template_columns": null,
            "grid_template_rows": null,
            "height": null,
            "justify_content": null,
            "justify_items": null,
            "left": null,
            "margin": null,
            "max_height": null,
            "max_width": null,
            "min_height": null,
            "min_width": null,
            "object_fit": null,
            "object_position": null,
            "order": null,
            "overflow": null,
            "overflow_x": null,
            "overflow_y": null,
            "padding": null,
            "right": null,
            "top": null,
            "visibility": null,
            "width": null
          }
        },
        "c7115b46b5d04a88a18318aae60d76ec": {
          "model_module": "@jupyter-widgets/controls",
          "model_name": "DescriptionStyleModel",
          "model_module_version": "1.5.0",
          "state": {
            "_model_module": "@jupyter-widgets/controls",
            "_model_module_version": "1.5.0",
            "_model_name": "DescriptionStyleModel",
            "_view_count": null,
            "_view_module": "@jupyter-widgets/base",
            "_view_module_version": "1.2.0",
            "_view_name": "StyleView",
            "description_width": ""
          }
        },
        "3a7658aca9c3454aabb7a10623bf7afb": {
          "model_module": "@jupyter-widgets/base",
          "model_name": "LayoutModel",
          "model_module_version": "1.2.0",
          "state": {
            "_model_module": "@jupyter-widgets/base",
            "_model_module_version": "1.2.0",
            "_model_name": "LayoutModel",
            "_view_count": null,
            "_view_module": "@jupyter-widgets/base",
            "_view_module_version": "1.2.0",
            "_view_name": "LayoutView",
            "align_content": null,
            "align_items": null,
            "align_self": null,
            "border": null,
            "bottom": null,
            "display": null,
            "flex": null,
            "flex_flow": null,
            "grid_area": null,
            "grid_auto_columns": null,
            "grid_auto_flow": null,
            "grid_auto_rows": null,
            "grid_column": null,
            "grid_gap": null,
            "grid_row": null,
            "grid_template_areas": null,
            "grid_template_columns": null,
            "grid_template_rows": null,
            "height": null,
            "justify_content": null,
            "justify_items": null,
            "left": null,
            "margin": null,
            "max_height": null,
            "max_width": null,
            "min_height": null,
            "min_width": null,
            "object_fit": null,
            "object_position": null,
            "order": null,
            "overflow": null,
            "overflow_x": null,
            "overflow_y": null,
            "padding": null,
            "right": null,
            "top": null,
            "visibility": null,
            "width": null
          }
        },
        "b36fb605b1584e0499fd5394904a0553": {
          "model_module": "@jupyter-widgets/controls",
          "model_name": "ProgressStyleModel",
          "model_module_version": "1.5.0",
          "state": {
            "_model_module": "@jupyter-widgets/controls",
            "_model_module_version": "1.5.0",
            "_model_name": "ProgressStyleModel",
            "_view_count": null,
            "_view_module": "@jupyter-widgets/base",
            "_view_module_version": "1.2.0",
            "_view_name": "StyleView",
            "bar_color": null,
            "description_width": ""
          }
        },
        "4bcfe36f28eb4affb99603dd41751cb7": {
          "model_module": "@jupyter-widgets/base",
          "model_name": "LayoutModel",
          "model_module_version": "1.2.0",
          "state": {
            "_model_module": "@jupyter-widgets/base",
            "_model_module_version": "1.2.0",
            "_model_name": "LayoutModel",
            "_view_count": null,
            "_view_module": "@jupyter-widgets/base",
            "_view_module_version": "1.2.0",
            "_view_name": "LayoutView",
            "align_content": null,
            "align_items": null,
            "align_self": null,
            "border": null,
            "bottom": null,
            "display": null,
            "flex": null,
            "flex_flow": null,
            "grid_area": null,
            "grid_auto_columns": null,
            "grid_auto_flow": null,
            "grid_auto_rows": null,
            "grid_column": null,
            "grid_gap": null,
            "grid_row": null,
            "grid_template_areas": null,
            "grid_template_columns": null,
            "grid_template_rows": null,
            "height": null,
            "justify_content": null,
            "justify_items": null,
            "left": null,
            "margin": null,
            "max_height": null,
            "max_width": null,
            "min_height": null,
            "min_width": null,
            "object_fit": null,
            "object_position": null,
            "order": null,
            "overflow": null,
            "overflow_x": null,
            "overflow_y": null,
            "padding": null,
            "right": null,
            "top": null,
            "visibility": null,
            "width": null
          }
        },
        "718422a7e49745bf99cefc44dc8415ed": {
          "model_module": "@jupyter-widgets/controls",
          "model_name": "DescriptionStyleModel",
          "model_module_version": "1.5.0",
          "state": {
            "_model_module": "@jupyter-widgets/controls",
            "_model_module_version": "1.5.0",
            "_model_name": "DescriptionStyleModel",
            "_view_count": null,
            "_view_module": "@jupyter-widgets/base",
            "_view_module_version": "1.2.0",
            "_view_name": "StyleView",
            "description_width": ""
          }
        },
        "ac0736bf4acd479abfc982031c1fcb6a": {
          "model_module": "@jupyter-widgets/controls",
          "model_name": "HBoxModel",
          "model_module_version": "1.5.0",
          "state": {
            "_dom_classes": [],
            "_model_module": "@jupyter-widgets/controls",
            "_model_module_version": "1.5.0",
            "_model_name": "HBoxModel",
            "_view_count": null,
            "_view_module": "@jupyter-widgets/controls",
            "_view_module_version": "1.5.0",
            "_view_name": "HBoxView",
            "box_style": "",
            "children": [
              "IPY_MODEL_18299de1a46d4a8095c01d770ba63877",
              "IPY_MODEL_347322dab75c4a48b839180524931b25",
              "IPY_MODEL_640db754f6634a90a78a6cc2c7523550"
            ],
            "layout": "IPY_MODEL_d845c065d3ce47a2a43700f763585e33"
          }
        },
        "18299de1a46d4a8095c01d770ba63877": {
          "model_module": "@jupyter-widgets/controls",
          "model_name": "HTMLModel",
          "model_module_version": "1.5.0",
          "state": {
            "_dom_classes": [],
            "_model_module": "@jupyter-widgets/controls",
            "_model_module_version": "1.5.0",
            "_model_name": "HTMLModel",
            "_view_count": null,
            "_view_module": "@jupyter-widgets/controls",
            "_view_module_version": "1.5.0",
            "_view_name": "HTMLView",
            "description": "",
            "description_tooltip": null,
            "layout": "IPY_MODEL_cfe11b43ea024b96b2f039d05b5c8e58",
            "placeholder": "​",
            "style": "IPY_MODEL_62d5e2376ba34e8f8afe2a562c6204ed",
            "value": "(…)-00000-of-00001-814a730def5e8488.parquet: 100%"
          }
        },
        "347322dab75c4a48b839180524931b25": {
          "model_module": "@jupyter-widgets/controls",
          "model_name": "FloatProgressModel",
          "model_module_version": "1.5.0",
          "state": {
            "_dom_classes": [],
            "_model_module": "@jupyter-widgets/controls",
            "_model_module_version": "1.5.0",
            "_model_name": "FloatProgressModel",
            "_view_count": null,
            "_view_module": "@jupyter-widgets/controls",
            "_view_module_version": "1.5.0",
            "_view_name": "ProgressView",
            "bar_style": "success",
            "description": "",
            "description_tooltip": null,
            "layout": "IPY_MODEL_334c1f81b82d41d699a60d4ff96ef516",
            "max": 1518560,
            "min": 0,
            "orientation": "horizontal",
            "style": "IPY_MODEL_a3572780d3f441ea938fac8ee1ea7b48",
            "value": 1518560
          }
        },
        "640db754f6634a90a78a6cc2c7523550": {
          "model_module": "@jupyter-widgets/controls",
          "model_name": "HTMLModel",
          "model_module_version": "1.5.0",
          "state": {
            "_dom_classes": [],
            "_model_module": "@jupyter-widgets/controls",
            "_model_module_version": "1.5.0",
            "_model_name": "HTMLModel",
            "_view_count": null,
            "_view_module": "@jupyter-widgets/controls",
            "_view_module_version": "1.5.0",
            "_view_name": "HTMLView",
            "description": "",
            "description_tooltip": null,
            "layout": "IPY_MODEL_bad3994bae6a4d2cb3d5a9fd1aa1bb4c",
            "placeholder": "​",
            "style": "IPY_MODEL_110d615b454141759e5792afa237a05e",
            "value": " 1.52M/1.52M [00:00&lt;00:00, 10.1MB/s]"
          }
        },
        "d845c065d3ce47a2a43700f763585e33": {
          "model_module": "@jupyter-widgets/base",
          "model_name": "LayoutModel",
          "model_module_version": "1.2.0",
          "state": {
            "_model_module": "@jupyter-widgets/base",
            "_model_module_version": "1.2.0",
            "_model_name": "LayoutModel",
            "_view_count": null,
            "_view_module": "@jupyter-widgets/base",
            "_view_module_version": "1.2.0",
            "_view_name": "LayoutView",
            "align_content": null,
            "align_items": null,
            "align_self": null,
            "border": null,
            "bottom": null,
            "display": null,
            "flex": null,
            "flex_flow": null,
            "grid_area": null,
            "grid_auto_columns": null,
            "grid_auto_flow": null,
            "grid_auto_rows": null,
            "grid_column": null,
            "grid_gap": null,
            "grid_row": null,
            "grid_template_areas": null,
            "grid_template_columns": null,
            "grid_template_rows": null,
            "height": null,
            "justify_content": null,
            "justify_items": null,
            "left": null,
            "margin": null,
            "max_height": null,
            "max_width": null,
            "min_height": null,
            "min_width": null,
            "object_fit": null,
            "object_position": null,
            "order": null,
            "overflow": null,
            "overflow_x": null,
            "overflow_y": null,
            "padding": null,
            "right": null,
            "top": null,
            "visibility": null,
            "width": null
          }
        },
        "cfe11b43ea024b96b2f039d05b5c8e58": {
          "model_module": "@jupyter-widgets/base",
          "model_name": "LayoutModel",
          "model_module_version": "1.2.0",
          "state": {
            "_model_module": "@jupyter-widgets/base",
            "_model_module_version": "1.2.0",
            "_model_name": "LayoutModel",
            "_view_count": null,
            "_view_module": "@jupyter-widgets/base",
            "_view_module_version": "1.2.0",
            "_view_name": "LayoutView",
            "align_content": null,
            "align_items": null,
            "align_self": null,
            "border": null,
            "bottom": null,
            "display": null,
            "flex": null,
            "flex_flow": null,
            "grid_area": null,
            "grid_auto_columns": null,
            "grid_auto_flow": null,
            "grid_auto_rows": null,
            "grid_column": null,
            "grid_gap": null,
            "grid_row": null,
            "grid_template_areas": null,
            "grid_template_columns": null,
            "grid_template_rows": null,
            "height": null,
            "justify_content": null,
            "justify_items": null,
            "left": null,
            "margin": null,
            "max_height": null,
            "max_width": null,
            "min_height": null,
            "min_width": null,
            "object_fit": null,
            "object_position": null,
            "order": null,
            "overflow": null,
            "overflow_x": null,
            "overflow_y": null,
            "padding": null,
            "right": null,
            "top": null,
            "visibility": null,
            "width": null
          }
        },
        "62d5e2376ba34e8f8afe2a562c6204ed": {
          "model_module": "@jupyter-widgets/controls",
          "model_name": "DescriptionStyleModel",
          "model_module_version": "1.5.0",
          "state": {
            "_model_module": "@jupyter-widgets/controls",
            "_model_module_version": "1.5.0",
            "_model_name": "DescriptionStyleModel",
            "_view_count": null,
            "_view_module": "@jupyter-widgets/base",
            "_view_module_version": "1.2.0",
            "_view_name": "StyleView",
            "description_width": ""
          }
        },
        "334c1f81b82d41d699a60d4ff96ef516": {
          "model_module": "@jupyter-widgets/base",
          "model_name": "LayoutModel",
          "model_module_version": "1.2.0",
          "state": {
            "_model_module": "@jupyter-widgets/base",
            "_model_module_version": "1.2.0",
            "_model_name": "LayoutModel",
            "_view_count": null,
            "_view_module": "@jupyter-widgets/base",
            "_view_module_version": "1.2.0",
            "_view_name": "LayoutView",
            "align_content": null,
            "align_items": null,
            "align_self": null,
            "border": null,
            "bottom": null,
            "display": null,
            "flex": null,
            "flex_flow": null,
            "grid_area": null,
            "grid_auto_columns": null,
            "grid_auto_flow": null,
            "grid_auto_rows": null,
            "grid_column": null,
            "grid_gap": null,
            "grid_row": null,
            "grid_template_areas": null,
            "grid_template_columns": null,
            "grid_template_rows": null,
            "height": null,
            "justify_content": null,
            "justify_items": null,
            "left": null,
            "margin": null,
            "max_height": null,
            "max_width": null,
            "min_height": null,
            "min_width": null,
            "object_fit": null,
            "object_position": null,
            "order": null,
            "overflow": null,
            "overflow_x": null,
            "overflow_y": null,
            "padding": null,
            "right": null,
            "top": null,
            "visibility": null,
            "width": null
          }
        },
        "a3572780d3f441ea938fac8ee1ea7b48": {
          "model_module": "@jupyter-widgets/controls",
          "model_name": "ProgressStyleModel",
          "model_module_version": "1.5.0",
          "state": {
            "_model_module": "@jupyter-widgets/controls",
            "_model_module_version": "1.5.0",
            "_model_name": "ProgressStyleModel",
            "_view_count": null,
            "_view_module": "@jupyter-widgets/base",
            "_view_module_version": "1.2.0",
            "_view_name": "StyleView",
            "bar_color": null,
            "description_width": ""
          }
        },
        "bad3994bae6a4d2cb3d5a9fd1aa1bb4c": {
          "model_module": "@jupyter-widgets/base",
          "model_name": "LayoutModel",
          "model_module_version": "1.2.0",
          "state": {
            "_model_module": "@jupyter-widgets/base",
            "_model_module_version": "1.2.0",
            "_model_name": "LayoutModel",
            "_view_count": null,
            "_view_module": "@jupyter-widgets/base",
            "_view_module_version": "1.2.0",
            "_view_name": "LayoutView",
            "align_content": null,
            "align_items": null,
            "align_self": null,
            "border": null,
            "bottom": null,
            "display": null,
            "flex": null,
            "flex_flow": null,
            "grid_area": null,
            "grid_auto_columns": null,
            "grid_auto_flow": null,
            "grid_auto_rows": null,
            "grid_column": null,
            "grid_gap": null,
            "grid_row": null,
            "grid_template_areas": null,
            "grid_template_columns": null,
            "grid_template_rows": null,
            "height": null,
            "justify_content": null,
            "justify_items": null,
            "left": null,
            "margin": null,
            "max_height": null,
            "max_width": null,
            "min_height": null,
            "min_width": null,
            "object_fit": null,
            "object_position": null,
            "order": null,
            "overflow": null,
            "overflow_x": null,
            "overflow_y": null,
            "padding": null,
            "right": null,
            "top": null,
            "visibility": null,
            "width": null
          }
        },
        "110d615b454141759e5792afa237a05e": {
          "model_module": "@jupyter-widgets/controls",
          "model_name": "DescriptionStyleModel",
          "model_module_version": "1.5.0",
          "state": {
            "_model_module": "@jupyter-widgets/controls",
            "_model_module_version": "1.5.0",
            "_model_name": "DescriptionStyleModel",
            "_view_count": null,
            "_view_module": "@jupyter-widgets/base",
            "_view_module_version": "1.2.0",
            "_view_name": "StyleView",
            "description_width": ""
          }
        },
        "0b06c5b94b52486d807f4bceed66dc4f": {
          "model_module": "@jupyter-widgets/controls",
          "model_name": "HBoxModel",
          "model_module_version": "1.5.0",
          "state": {
            "_dom_classes": [],
            "_model_module": "@jupyter-widgets/controls",
            "_model_module_version": "1.5.0",
            "_model_name": "HBoxModel",
            "_view_count": null,
            "_view_module": "@jupyter-widgets/controls",
            "_view_module_version": "1.5.0",
            "_view_name": "HBoxView",
            "box_style": "",
            "children": [
              "IPY_MODEL_c037bc83494d4acabf2e3a8970c2d8ca",
              "IPY_MODEL_0b8283e1daa0453e90675bc9496bc382",
              "IPY_MODEL_fd88a122896744efa8118aab112ce06b"
            ],
            "layout": "IPY_MODEL_6efdde294d9f48fabe0ed7eace5506a0"
          }
        },
        "c037bc83494d4acabf2e3a8970c2d8ca": {
          "model_module": "@jupyter-widgets/controls",
          "model_name": "HTMLModel",
          "model_module_version": "1.5.0",
          "state": {
            "_dom_classes": [],
            "_model_module": "@jupyter-widgets/controls",
            "_model_module_version": "1.5.0",
            "_model_name": "HTMLModel",
            "_view_count": null,
            "_view_module": "@jupyter-widgets/controls",
            "_view_module_version": "1.5.0",
            "_view_name": "HTMLView",
            "description": "",
            "description_tooltip": null,
            "layout": "IPY_MODEL_c1c96fb7c8214a58ad4c2dca919f8c7c",
            "placeholder": "​",
            "style": "IPY_MODEL_b3536903047643f085a41e85e85bcc3a",
            "value": "Generating train split: 100%"
          }
        },
        "0b8283e1daa0453e90675bc9496bc382": {
          "model_module": "@jupyter-widgets/controls",
          "model_name": "FloatProgressModel",
          "model_module_version": "1.5.0",
          "state": {
            "_dom_classes": [],
            "_model_module": "@jupyter-widgets/controls",
            "_model_module_version": "1.5.0",
            "_model_name": "FloatProgressModel",
            "_view_count": null,
            "_view_module": "@jupyter-widgets/controls",
            "_view_module_version": "1.5.0",
            "_view_name": "ProgressView",
            "bar_style": "success",
            "description": "",
            "description_tooltip": null,
            "layout": "IPY_MODEL_99a51e75797c4825b9ea5542471438bd",
            "max": 10995,
            "min": 0,
            "orientation": "horizontal",
            "style": "IPY_MODEL_4a703c5dc4414beeb4045fa1f26a8708",
            "value": 10995
          }
        },
        "fd88a122896744efa8118aab112ce06b": {
          "model_module": "@jupyter-widgets/controls",
          "model_name": "HTMLModel",
          "model_module_version": "1.5.0",
          "state": {
            "_dom_classes": [],
            "_model_module": "@jupyter-widgets/controls",
            "_model_module_version": "1.5.0",
            "_model_name": "HTMLModel",
            "_view_count": null,
            "_view_module": "@jupyter-widgets/controls",
            "_view_module_version": "1.5.0",
            "_view_name": "HTMLView",
            "description": "",
            "description_tooltip": null,
            "layout": "IPY_MODEL_cb94083fa6744fd5a726186018569d96",
            "placeholder": "​",
            "style": "IPY_MODEL_0a2f2b82147941068aebcf2c9d95e168",
            "value": " 10995/10995 [00:00&lt;00:00, 90011.97 examples/s]"
          }
        },
        "6efdde294d9f48fabe0ed7eace5506a0": {
          "model_module": "@jupyter-widgets/base",
          "model_name": "LayoutModel",
          "model_module_version": "1.2.0",
          "state": {
            "_model_module": "@jupyter-widgets/base",
            "_model_module_version": "1.2.0",
            "_model_name": "LayoutModel",
            "_view_count": null,
            "_view_module": "@jupyter-widgets/base",
            "_view_module_version": "1.2.0",
            "_view_name": "LayoutView",
            "align_content": null,
            "align_items": null,
            "align_self": null,
            "border": null,
            "bottom": null,
            "display": null,
            "flex": null,
            "flex_flow": null,
            "grid_area": null,
            "grid_auto_columns": null,
            "grid_auto_flow": null,
            "grid_auto_rows": null,
            "grid_column": null,
            "grid_gap": null,
            "grid_row": null,
            "grid_template_areas": null,
            "grid_template_columns": null,
            "grid_template_rows": null,
            "height": null,
            "justify_content": null,
            "justify_items": null,
            "left": null,
            "margin": null,
            "max_height": null,
            "max_width": null,
            "min_height": null,
            "min_width": null,
            "object_fit": null,
            "object_position": null,
            "order": null,
            "overflow": null,
            "overflow_x": null,
            "overflow_y": null,
            "padding": null,
            "right": null,
            "top": null,
            "visibility": null,
            "width": null
          }
        },
        "c1c96fb7c8214a58ad4c2dca919f8c7c": {
          "model_module": "@jupyter-widgets/base",
          "model_name": "LayoutModel",
          "model_module_version": "1.2.0",
          "state": {
            "_model_module": "@jupyter-widgets/base",
            "_model_module_version": "1.2.0",
            "_model_name": "LayoutModel",
            "_view_count": null,
            "_view_module": "@jupyter-widgets/base",
            "_view_module_version": "1.2.0",
            "_view_name": "LayoutView",
            "align_content": null,
            "align_items": null,
            "align_self": null,
            "border": null,
            "bottom": null,
            "display": null,
            "flex": null,
            "flex_flow": null,
            "grid_area": null,
            "grid_auto_columns": null,
            "grid_auto_flow": null,
            "grid_auto_rows": null,
            "grid_column": null,
            "grid_gap": null,
            "grid_row": null,
            "grid_template_areas": null,
            "grid_template_columns": null,
            "grid_template_rows": null,
            "height": null,
            "justify_content": null,
            "justify_items": null,
            "left": null,
            "margin": null,
            "max_height": null,
            "max_width": null,
            "min_height": null,
            "min_width": null,
            "object_fit": null,
            "object_position": null,
            "order": null,
            "overflow": null,
            "overflow_x": null,
            "overflow_y": null,
            "padding": null,
            "right": null,
            "top": null,
            "visibility": null,
            "width": null
          }
        },
        "b3536903047643f085a41e85e85bcc3a": {
          "model_module": "@jupyter-widgets/controls",
          "model_name": "DescriptionStyleModel",
          "model_module_version": "1.5.0",
          "state": {
            "_model_module": "@jupyter-widgets/controls",
            "_model_module_version": "1.5.0",
            "_model_name": "DescriptionStyleModel",
            "_view_count": null,
            "_view_module": "@jupyter-widgets/base",
            "_view_module_version": "1.2.0",
            "_view_name": "StyleView",
            "description_width": ""
          }
        },
        "99a51e75797c4825b9ea5542471438bd": {
          "model_module": "@jupyter-widgets/base",
          "model_name": "LayoutModel",
          "model_module_version": "1.2.0",
          "state": {
            "_model_module": "@jupyter-widgets/base",
            "_model_module_version": "1.2.0",
            "_model_name": "LayoutModel",
            "_view_count": null,
            "_view_module": "@jupyter-widgets/base",
            "_view_module_version": "1.2.0",
            "_view_name": "LayoutView",
            "align_content": null,
            "align_items": null,
            "align_self": null,
            "border": null,
            "bottom": null,
            "display": null,
            "flex": null,
            "flex_flow": null,
            "grid_area": null,
            "grid_auto_columns": null,
            "grid_auto_flow": null,
            "grid_auto_rows": null,
            "grid_column": null,
            "grid_gap": null,
            "grid_row": null,
            "grid_template_areas": null,
            "grid_template_columns": null,
            "grid_template_rows": null,
            "height": null,
            "justify_content": null,
            "justify_items": null,
            "left": null,
            "margin": null,
            "max_height": null,
            "max_width": null,
            "min_height": null,
            "min_width": null,
            "object_fit": null,
            "object_position": null,
            "order": null,
            "overflow": null,
            "overflow_x": null,
            "overflow_y": null,
            "padding": null,
            "right": null,
            "top": null,
            "visibility": null,
            "width": null
          }
        },
        "4a703c5dc4414beeb4045fa1f26a8708": {
          "model_module": "@jupyter-widgets/controls",
          "model_name": "ProgressStyleModel",
          "model_module_version": "1.5.0",
          "state": {
            "_model_module": "@jupyter-widgets/controls",
            "_model_module_version": "1.5.0",
            "_model_name": "ProgressStyleModel",
            "_view_count": null,
            "_view_module": "@jupyter-widgets/base",
            "_view_module_version": "1.2.0",
            "_view_name": "StyleView",
            "bar_color": null,
            "description_width": ""
          }
        },
        "cb94083fa6744fd5a726186018569d96": {
          "model_module": "@jupyter-widgets/base",
          "model_name": "LayoutModel",
          "model_module_version": "1.2.0",
          "state": {
            "_model_module": "@jupyter-widgets/base",
            "_model_module_version": "1.2.0",
            "_model_name": "LayoutModel",
            "_view_count": null,
            "_view_module": "@jupyter-widgets/base",
            "_view_module_version": "1.2.0",
            "_view_name": "LayoutView",
            "align_content": null,
            "align_items": null,
            "align_self": null,
            "border": null,
            "bottom": null,
            "display": null,
            "flex": null,
            "flex_flow": null,
            "grid_area": null,
            "grid_auto_columns": null,
            "grid_auto_flow": null,
            "grid_auto_rows": null,
            "grid_column": null,
            "grid_gap": null,
            "grid_row": null,
            "grid_template_areas": null,
            "grid_template_columns": null,
            "grid_template_rows": null,
            "height": null,
            "justify_content": null,
            "justify_items": null,
            "left": null,
            "margin": null,
            "max_height": null,
            "max_width": null,
            "min_height": null,
            "min_width": null,
            "object_fit": null,
            "object_position": null,
            "order": null,
            "overflow": null,
            "overflow_x": null,
            "overflow_y": null,
            "padding": null,
            "right": null,
            "top": null,
            "visibility": null,
            "width": null
          }
        },
        "0a2f2b82147941068aebcf2c9d95e168": {
          "model_module": "@jupyter-widgets/controls",
          "model_name": "DescriptionStyleModel",
          "model_module_version": "1.5.0",
          "state": {
            "_model_module": "@jupyter-widgets/controls",
            "_model_module_version": "1.5.0",
            "_model_name": "DescriptionStyleModel",
            "_view_count": null,
            "_view_module": "@jupyter-widgets/base",
            "_view_module_version": "1.2.0",
            "_view_name": "StyleView",
            "description_width": ""
          }
        },
        "ef36fa4c249f414eb978a39f90b41c21": {
          "model_module": "@jupyter-widgets/controls",
          "model_name": "HBoxModel",
          "model_module_version": "1.5.0",
          "state": {
            "_dom_classes": [],
            "_model_module": "@jupyter-widgets/controls",
            "_model_module_version": "1.5.0",
            "_model_name": "HBoxModel",
            "_view_count": null,
            "_view_module": "@jupyter-widgets/controls",
            "_view_module_version": "1.5.0",
            "_view_name": "HBoxView",
            "box_style": "",
            "children": [
              "IPY_MODEL_f84b224972d348eaabafb0946134bd83",
              "IPY_MODEL_04d5bfb127bb4718ab4e37f82a2f57be",
              "IPY_MODEL_2db99ea81a9240708b160f103b1965d7"
            ],
            "layout": "IPY_MODEL_5d65dcd5229741e691d6384b448e2885"
          }
        },
        "f84b224972d348eaabafb0946134bd83": {
          "model_module": "@jupyter-widgets/controls",
          "model_name": "HTMLModel",
          "model_module_version": "1.5.0",
          "state": {
            "_dom_classes": [],
            "_model_module": "@jupyter-widgets/controls",
            "_model_module_version": "1.5.0",
            "_model_name": "HTMLModel",
            "_view_count": null,
            "_view_module": "@jupyter-widgets/controls",
            "_view_module_version": "1.5.0",
            "_view_name": "HTMLView",
            "description": "",
            "description_tooltip": null,
            "layout": "IPY_MODEL_2c2e310782624e09b1a558461cfbd3e6",
            "placeholder": "​",
            "style": "IPY_MODEL_99dd3d386bca44859e38bc3b6fab1d82",
            "value": "Generating dev split: 100%"
          }
        },
        "04d5bfb127bb4718ab4e37f82a2f57be": {
          "model_module": "@jupyter-widgets/controls",
          "model_name": "FloatProgressModel",
          "model_module_version": "1.5.0",
          "state": {
            "_dom_classes": [],
            "_model_module": "@jupyter-widgets/controls",
            "_model_module_version": "1.5.0",
            "_model_name": "FloatProgressModel",
            "_view_count": null,
            "_view_module": "@jupyter-widgets/controls",
            "_view_module_version": "1.5.0",
            "_view_name": "ProgressView",
            "bar_style": "success",
            "description": "",
            "description_tooltip": null,
            "layout": "IPY_MODEL_9ffb8ed6fc3640bc8d63310a1e23d7cc",
            "max": 1074,
            "min": 0,
            "orientation": "horizontal",
            "style": "IPY_MODEL_ff9ed4482c7e4d41942ee5ddbcbe3170",
            "value": 1074
          }
        },
        "2db99ea81a9240708b160f103b1965d7": {
          "model_module": "@jupyter-widgets/controls",
          "model_name": "HTMLModel",
          "model_module_version": "1.5.0",
          "state": {
            "_dom_classes": [],
            "_model_module": "@jupyter-widgets/controls",
            "_model_module_version": "1.5.0",
            "_model_name": "HTMLModel",
            "_view_count": null,
            "_view_module": "@jupyter-widgets/controls",
            "_view_module_version": "1.5.0",
            "_view_name": "HTMLView",
            "description": "",
            "description_tooltip": null,
            "layout": "IPY_MODEL_bf3673071dc34209949540c137376a88",
            "placeholder": "​",
            "style": "IPY_MODEL_f98bd678aa52489ba9c22b237c9b0ede",
            "value": " 1074/1074 [00:00&lt;00:00, 19467.92 examples/s]"
          }
        },
        "5d65dcd5229741e691d6384b448e2885": {
          "model_module": "@jupyter-widgets/base",
          "model_name": "LayoutModel",
          "model_module_version": "1.2.0",
          "state": {
            "_model_module": "@jupyter-widgets/base",
            "_model_module_version": "1.2.0",
            "_model_name": "LayoutModel",
            "_view_count": null,
            "_view_module": "@jupyter-widgets/base",
            "_view_module_version": "1.2.0",
            "_view_name": "LayoutView",
            "align_content": null,
            "align_items": null,
            "align_self": null,
            "border": null,
            "bottom": null,
            "display": null,
            "flex": null,
            "flex_flow": null,
            "grid_area": null,
            "grid_auto_columns": null,
            "grid_auto_flow": null,
            "grid_auto_rows": null,
            "grid_column": null,
            "grid_gap": null,
            "grid_row": null,
            "grid_template_areas": null,
            "grid_template_columns": null,
            "grid_template_rows": null,
            "height": null,
            "justify_content": null,
            "justify_items": null,
            "left": null,
            "margin": null,
            "max_height": null,
            "max_width": null,
            "min_height": null,
            "min_width": null,
            "object_fit": null,
            "object_position": null,
            "order": null,
            "overflow": null,
            "overflow_x": null,
            "overflow_y": null,
            "padding": null,
            "right": null,
            "top": null,
            "visibility": null,
            "width": null
          }
        },
        "2c2e310782624e09b1a558461cfbd3e6": {
          "model_module": "@jupyter-widgets/base",
          "model_name": "LayoutModel",
          "model_module_version": "1.2.0",
          "state": {
            "_model_module": "@jupyter-widgets/base",
            "_model_module_version": "1.2.0",
            "_model_name": "LayoutModel",
            "_view_count": null,
            "_view_module": "@jupyter-widgets/base",
            "_view_module_version": "1.2.0",
            "_view_name": "LayoutView",
            "align_content": null,
            "align_items": null,
            "align_self": null,
            "border": null,
            "bottom": null,
            "display": null,
            "flex": null,
            "flex_flow": null,
            "grid_area": null,
            "grid_auto_columns": null,
            "grid_auto_flow": null,
            "grid_auto_rows": null,
            "grid_column": null,
            "grid_gap": null,
            "grid_row": null,
            "grid_template_areas": null,
            "grid_template_columns": null,
            "grid_template_rows": null,
            "height": null,
            "justify_content": null,
            "justify_items": null,
            "left": null,
            "margin": null,
            "max_height": null,
            "max_width": null,
            "min_height": null,
            "min_width": null,
            "object_fit": null,
            "object_position": null,
            "order": null,
            "overflow": null,
            "overflow_x": null,
            "overflow_y": null,
            "padding": null,
            "right": null,
            "top": null,
            "visibility": null,
            "width": null
          }
        },
        "99dd3d386bca44859e38bc3b6fab1d82": {
          "model_module": "@jupyter-widgets/controls",
          "model_name": "DescriptionStyleModel",
          "model_module_version": "1.5.0",
          "state": {
            "_model_module": "@jupyter-widgets/controls",
            "_model_module_version": "1.5.0",
            "_model_name": "DescriptionStyleModel",
            "_view_count": null,
            "_view_module": "@jupyter-widgets/base",
            "_view_module_version": "1.2.0",
            "_view_name": "StyleView",
            "description_width": ""
          }
        },
        "9ffb8ed6fc3640bc8d63310a1e23d7cc": {
          "model_module": "@jupyter-widgets/base",
          "model_name": "LayoutModel",
          "model_module_version": "1.2.0",
          "state": {
            "_model_module": "@jupyter-widgets/base",
            "_model_module_version": "1.2.0",
            "_model_name": "LayoutModel",
            "_view_count": null,
            "_view_module": "@jupyter-widgets/base",
            "_view_module_version": "1.2.0",
            "_view_name": "LayoutView",
            "align_content": null,
            "align_items": null,
            "align_self": null,
            "border": null,
            "bottom": null,
            "display": null,
            "flex": null,
            "flex_flow": null,
            "grid_area": null,
            "grid_auto_columns": null,
            "grid_auto_flow": null,
            "grid_auto_rows": null,
            "grid_column": null,
            "grid_gap": null,
            "grid_row": null,
            "grid_template_areas": null,
            "grid_template_columns": null,
            "grid_template_rows": null,
            "height": null,
            "justify_content": null,
            "justify_items": null,
            "left": null,
            "margin": null,
            "max_height": null,
            "max_width": null,
            "min_height": null,
            "min_width": null,
            "object_fit": null,
            "object_position": null,
            "order": null,
            "overflow": null,
            "overflow_x": null,
            "overflow_y": null,
            "padding": null,
            "right": null,
            "top": null,
            "visibility": null,
            "width": null
          }
        },
        "ff9ed4482c7e4d41942ee5ddbcbe3170": {
          "model_module": "@jupyter-widgets/controls",
          "model_name": "ProgressStyleModel",
          "model_module_version": "1.5.0",
          "state": {
            "_model_module": "@jupyter-widgets/controls",
            "_model_module_version": "1.5.0",
            "_model_name": "ProgressStyleModel",
            "_view_count": null,
            "_view_module": "@jupyter-widgets/base",
            "_view_module_version": "1.2.0",
            "_view_name": "StyleView",
            "bar_color": null,
            "description_width": ""
          }
        },
        "bf3673071dc34209949540c137376a88": {
          "model_module": "@jupyter-widgets/base",
          "model_name": "LayoutModel",
          "model_module_version": "1.2.0",
          "state": {
            "_model_module": "@jupyter-widgets/base",
            "_model_module_version": "1.2.0",
            "_model_name": "LayoutModel",
            "_view_count": null,
            "_view_module": "@jupyter-widgets/base",
            "_view_module_version": "1.2.0",
            "_view_name": "LayoutView",
            "align_content": null,
            "align_items": null,
            "align_self": null,
            "border": null,
            "bottom": null,
            "display": null,
            "flex": null,
            "flex_flow": null,
            "grid_area": null,
            "grid_auto_columns": null,
            "grid_auto_flow": null,
            "grid_auto_rows": null,
            "grid_column": null,
            "grid_gap": null,
            "grid_row": null,
            "grid_template_areas": null,
            "grid_template_columns": null,
            "grid_template_rows": null,
            "height": null,
            "justify_content": null,
            "justify_items": null,
            "left": null,
            "margin": null,
            "max_height": null,
            "max_width": null,
            "min_height": null,
            "min_width": null,
            "object_fit": null,
            "object_position": null,
            "order": null,
            "overflow": null,
            "overflow_x": null,
            "overflow_y": null,
            "padding": null,
            "right": null,
            "top": null,
            "visibility": null,
            "width": null
          }
        },
        "f98bd678aa52489ba9c22b237c9b0ede": {
          "model_module": "@jupyter-widgets/controls",
          "model_name": "DescriptionStyleModel",
          "model_module_version": "1.5.0",
          "state": {
            "_model_module": "@jupyter-widgets/controls",
            "_model_module_version": "1.5.0",
            "_model_name": "DescriptionStyleModel",
            "_view_count": null,
            "_view_module": "@jupyter-widgets/base",
            "_view_module_version": "1.2.0",
            "_view_name": "StyleView",
            "description_width": ""
          }
        },
        "7775d99d983748e0bc573ede2b582569": {
          "model_module": "@jupyter-widgets/controls",
          "model_name": "HBoxModel",
          "model_module_version": "1.5.0",
          "state": {
            "_dom_classes": [],
            "_model_module": "@jupyter-widgets/controls",
            "_model_module_version": "1.5.0",
            "_model_name": "HBoxModel",
            "_view_count": null,
            "_view_module": "@jupyter-widgets/controls",
            "_view_module_version": "1.5.0",
            "_view_name": "HBoxView",
            "box_style": "",
            "children": [
              "IPY_MODEL_52ec9e915f0843a5a8fde40ba324f958",
              "IPY_MODEL_fdf58ac065914f7dbe76f42a0a54068e",
              "IPY_MODEL_e32fe14fe0f54475bd20cd66ea2b4ec1"
            ],
            "layout": "IPY_MODEL_d48295a1511444fc950102ff4e8b331d"
          }
        },
        "52ec9e915f0843a5a8fde40ba324f958": {
          "model_module": "@jupyter-widgets/controls",
          "model_name": "HTMLModel",
          "model_module_version": "1.5.0",
          "state": {
            "_dom_classes": [],
            "_model_module": "@jupyter-widgets/controls",
            "_model_module_version": "1.5.0",
            "_model_name": "HTMLModel",
            "_view_count": null,
            "_view_module": "@jupyter-widgets/controls",
            "_view_module_version": "1.5.0",
            "_view_name": "HTMLView",
            "description": "",
            "description_tooltip": null,
            "layout": "IPY_MODEL_cc896981571d4b99b41d8291400ad6e3",
            "placeholder": "​",
            "style": "IPY_MODEL_8c10ea4cc74b47fe86a6951142aca79e",
            "value": "Generating test split: 100%"
          }
        },
        "fdf58ac065914f7dbe76f42a0a54068e": {
          "model_module": "@jupyter-widgets/controls",
          "model_name": "FloatProgressModel",
          "model_module_version": "1.5.0",
          "state": {
            "_dom_classes": [],
            "_model_module": "@jupyter-widgets/controls",
            "_model_module_version": "1.5.0",
            "_model_name": "FloatProgressModel",
            "_view_count": null,
            "_view_module": "@jupyter-widgets/controls",
            "_view_module_version": "1.5.0",
            "_view_name": "ProgressView",
            "bar_style": "success",
            "description": "",
            "description_tooltip": null,
            "layout": "IPY_MODEL_01fc4ed25d104d9dbf339898fac37590",
            "max": 4501,
            "min": 0,
            "orientation": "horizontal",
            "style": "IPY_MODEL_6e7cc07f02fb4504b98f08745b3e9e2e",
            "value": 4501
          }
        },
        "e32fe14fe0f54475bd20cd66ea2b4ec1": {
          "model_module": "@jupyter-widgets/controls",
          "model_name": "HTMLModel",
          "model_module_version": "1.5.0",
          "state": {
            "_dom_classes": [],
            "_model_module": "@jupyter-widgets/controls",
            "_model_module_version": "1.5.0",
            "_model_name": "HTMLModel",
            "_view_count": null,
            "_view_module": "@jupyter-widgets/controls",
            "_view_module_version": "1.5.0",
            "_view_name": "HTMLView",
            "description": "",
            "description_tooltip": null,
            "layout": "IPY_MODEL_6825776dd727489a95ca3d41b24426ce",
            "placeholder": "​",
            "style": "IPY_MODEL_04dbf6c5a30740c6878ee217b562188b",
            "value": " 4501/4501 [00:00&lt;00:00, 67487.55 examples/s]"
          }
        },
        "d48295a1511444fc950102ff4e8b331d": {
          "model_module": "@jupyter-widgets/base",
          "model_name": "LayoutModel",
          "model_module_version": "1.2.0",
          "state": {
            "_model_module": "@jupyter-widgets/base",
            "_model_module_version": "1.2.0",
            "_model_name": "LayoutModel",
            "_view_count": null,
            "_view_module": "@jupyter-widgets/base",
            "_view_module_version": "1.2.0",
            "_view_name": "LayoutView",
            "align_content": null,
            "align_items": null,
            "align_self": null,
            "border": null,
            "bottom": null,
            "display": null,
            "flex": null,
            "flex_flow": null,
            "grid_area": null,
            "grid_auto_columns": null,
            "grid_auto_flow": null,
            "grid_auto_rows": null,
            "grid_column": null,
            "grid_gap": null,
            "grid_row": null,
            "grid_template_areas": null,
            "grid_template_columns": null,
            "grid_template_rows": null,
            "height": null,
            "justify_content": null,
            "justify_items": null,
            "left": null,
            "margin": null,
            "max_height": null,
            "max_width": null,
            "min_height": null,
            "min_width": null,
            "object_fit": null,
            "object_position": null,
            "order": null,
            "overflow": null,
            "overflow_x": null,
            "overflow_y": null,
            "padding": null,
            "right": null,
            "top": null,
            "visibility": null,
            "width": null
          }
        },
        "cc896981571d4b99b41d8291400ad6e3": {
          "model_module": "@jupyter-widgets/base",
          "model_name": "LayoutModel",
          "model_module_version": "1.2.0",
          "state": {
            "_model_module": "@jupyter-widgets/base",
            "_model_module_version": "1.2.0",
            "_model_name": "LayoutModel",
            "_view_count": null,
            "_view_module": "@jupyter-widgets/base",
            "_view_module_version": "1.2.0",
            "_view_name": "LayoutView",
            "align_content": null,
            "align_items": null,
            "align_self": null,
            "border": null,
            "bottom": null,
            "display": null,
            "flex": null,
            "flex_flow": null,
            "grid_area": null,
            "grid_auto_columns": null,
            "grid_auto_flow": null,
            "grid_auto_rows": null,
            "grid_column": null,
            "grid_gap": null,
            "grid_row": null,
            "grid_template_areas": null,
            "grid_template_columns": null,
            "grid_template_rows": null,
            "height": null,
            "justify_content": null,
            "justify_items": null,
            "left": null,
            "margin": null,
            "max_height": null,
            "max_width": null,
            "min_height": null,
            "min_width": null,
            "object_fit": null,
            "object_position": null,
            "order": null,
            "overflow": null,
            "overflow_x": null,
            "overflow_y": null,
            "padding": null,
            "right": null,
            "top": null,
            "visibility": null,
            "width": null
          }
        },
        "8c10ea4cc74b47fe86a6951142aca79e": {
          "model_module": "@jupyter-widgets/controls",
          "model_name": "DescriptionStyleModel",
          "model_module_version": "1.5.0",
          "state": {
            "_model_module": "@jupyter-widgets/controls",
            "_model_module_version": "1.5.0",
            "_model_name": "DescriptionStyleModel",
            "_view_count": null,
            "_view_module": "@jupyter-widgets/base",
            "_view_module_version": "1.2.0",
            "_view_name": "StyleView",
            "description_width": ""
          }
        },
        "01fc4ed25d104d9dbf339898fac37590": {
          "model_module": "@jupyter-widgets/base",
          "model_name": "LayoutModel",
          "model_module_version": "1.2.0",
          "state": {
            "_model_module": "@jupyter-widgets/base",
            "_model_module_version": "1.2.0",
            "_model_name": "LayoutModel",
            "_view_count": null,
            "_view_module": "@jupyter-widgets/base",
            "_view_module_version": "1.2.0",
            "_view_name": "LayoutView",
            "align_content": null,
            "align_items": null,
            "align_self": null,
            "border": null,
            "bottom": null,
            "display": null,
            "flex": null,
            "flex_flow": null,
            "grid_area": null,
            "grid_auto_columns": null,
            "grid_auto_flow": null,
            "grid_auto_rows": null,
            "grid_column": null,
            "grid_gap": null,
            "grid_row": null,
            "grid_template_areas": null,
            "grid_template_columns": null,
            "grid_template_rows": null,
            "height": null,
            "justify_content": null,
            "justify_items": null,
            "left": null,
            "margin": null,
            "max_height": null,
            "max_width": null,
            "min_height": null,
            "min_width": null,
            "object_fit": null,
            "object_position": null,
            "order": null,
            "overflow": null,
            "overflow_x": null,
            "overflow_y": null,
            "padding": null,
            "right": null,
            "top": null,
            "visibility": null,
            "width": null
          }
        },
        "6e7cc07f02fb4504b98f08745b3e9e2e": {
          "model_module": "@jupyter-widgets/controls",
          "model_name": "ProgressStyleModel",
          "model_module_version": "1.5.0",
          "state": {
            "_model_module": "@jupyter-widgets/controls",
            "_model_module_version": "1.5.0",
            "_model_name": "ProgressStyleModel",
            "_view_count": null,
            "_view_module": "@jupyter-widgets/base",
            "_view_module_version": "1.2.0",
            "_view_name": "StyleView",
            "bar_color": null,
            "description_width": ""
          }
        },
        "6825776dd727489a95ca3d41b24426ce": {
          "model_module": "@jupyter-widgets/base",
          "model_name": "LayoutModel",
          "model_module_version": "1.2.0",
          "state": {
            "_model_module": "@jupyter-widgets/base",
            "_model_module_version": "1.2.0",
            "_model_name": "LayoutModel",
            "_view_count": null,
            "_view_module": "@jupyter-widgets/base",
            "_view_module_version": "1.2.0",
            "_view_name": "LayoutView",
            "align_content": null,
            "align_items": null,
            "align_self": null,
            "border": null,
            "bottom": null,
            "display": null,
            "flex": null,
            "flex_flow": null,
            "grid_area": null,
            "grid_auto_columns": null,
            "grid_auto_flow": null,
            "grid_auto_rows": null,
            "grid_column": null,
            "grid_gap": null,
            "grid_row": null,
            "grid_template_areas": null,
            "grid_template_columns": null,
            "grid_template_rows": null,
            "height": null,
            "justify_content": null,
            "justify_items": null,
            "left": null,
            "margin": null,
            "max_height": null,
            "max_width": null,
            "min_height": null,
            "min_width": null,
            "object_fit": null,
            "object_position": null,
            "order": null,
            "overflow": null,
            "overflow_x": null,
            "overflow_y": null,
            "padding": null,
            "right": null,
            "top": null,
            "visibility": null,
            "width": null
          }
        },
        "04dbf6c5a30740c6878ee217b562188b": {
          "model_module": "@jupyter-widgets/controls",
          "model_name": "DescriptionStyleModel",
          "model_module_version": "1.5.0",
          "state": {
            "_model_module": "@jupyter-widgets/controls",
            "_model_module_version": "1.5.0",
            "_model_name": "DescriptionStyleModel",
            "_view_count": null,
            "_view_module": "@jupyter-widgets/base",
            "_view_module_version": "1.2.0",
            "_view_name": "StyleView",
            "description_width": ""
          }
        }
      }
    }
  },
  "nbformat": 4,
  "nbformat_minor": 0
}