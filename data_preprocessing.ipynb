{
  "cells": [
    {
      "cell_type": "markdown",
      "metadata": {
        "id": "9hBuhpN36yor"
      },
      "source": [
        "# Dependencies"
      ]
    },
    {
      "cell_type": "code",
      "execution_count": 120,
      "metadata": {
        "colab": {
          "base_uri": "https://localhost:8080/"
        },
        "id": "DExMn07vFW-F",
        "outputId": "e7576f7d-0482-45c7-d497-b9ae1bcadd07"
      },
      "outputs": [
        {
          "output_type": "stream",
          "name": "stdout",
          "text": [
            "Requirement already satisfied: huggingface_hub in /usr/local/lib/python3.10/dist-packages (0.24.7)\n",
            "Requirement already satisfied: filelock in /usr/local/lib/python3.10/dist-packages (from huggingface_hub) (3.16.1)\n",
            "Requirement already satisfied: fsspec>=2023.5.0 in /usr/local/lib/python3.10/dist-packages (from huggingface_hub) (2024.6.1)\n",
            "Requirement already satisfied: packaging>=20.9 in /usr/local/lib/python3.10/dist-packages (from huggingface_hub) (24.1)\n",
            "Requirement already satisfied: pyyaml>=5.1 in /usr/local/lib/python3.10/dist-packages (from huggingface_hub) (6.0.2)\n",
            "Requirement already satisfied: requests in /usr/local/lib/python3.10/dist-packages (from huggingface_hub) (2.32.3)\n",
            "Requirement already satisfied: tqdm>=4.42.1 in /usr/local/lib/python3.10/dist-packages (from huggingface_hub) (4.66.5)\n",
            "Requirement already satisfied: typing-extensions>=3.7.4.3 in /usr/local/lib/python3.10/dist-packages (from huggingface_hub) (4.12.2)\n",
            "Requirement already satisfied: charset-normalizer<4,>=2 in /usr/local/lib/python3.10/dist-packages (from requests->huggingface_hub) (3.3.2)\n",
            "Requirement already satisfied: idna<4,>=2.5 in /usr/local/lib/python3.10/dist-packages (from requests->huggingface_hub) (3.10)\n",
            "Requirement already satisfied: urllib3<3,>=1.21.1 in /usr/local/lib/python3.10/dist-packages (from requests->huggingface_hub) (2.2.3)\n",
            "Requirement already satisfied: certifi>=2017.4.17 in /usr/local/lib/python3.10/dist-packages (from requests->huggingface_hub) (2024.8.30)\n",
            "Requirement already satisfied: datasets in /usr/local/lib/python3.10/dist-packages (3.0.1)\n",
            "Requirement already satisfied: filelock in /usr/local/lib/python3.10/dist-packages (from datasets) (3.16.1)\n",
            "Requirement already satisfied: numpy>=1.17 in /usr/local/lib/python3.10/dist-packages (from datasets) (1.26.4)\n",
            "Requirement already satisfied: pyarrow>=15.0.0 in /usr/local/lib/python3.10/dist-packages (from datasets) (16.1.0)\n",
            "Requirement already satisfied: dill<0.3.9,>=0.3.0 in /usr/local/lib/python3.10/dist-packages (from datasets) (0.3.8)\n",
            "Requirement already satisfied: pandas in /usr/local/lib/python3.10/dist-packages (from datasets) (2.2.2)\n",
            "Requirement already satisfied: requests>=2.32.2 in /usr/local/lib/python3.10/dist-packages (from datasets) (2.32.3)\n",
            "Requirement already satisfied: tqdm>=4.66.3 in /usr/local/lib/python3.10/dist-packages (from datasets) (4.66.5)\n",
            "Requirement already satisfied: xxhash in /usr/local/lib/python3.10/dist-packages (from datasets) (3.5.0)\n",
            "Requirement already satisfied: multiprocess in /usr/local/lib/python3.10/dist-packages (from datasets) (0.70.16)\n",
            "Requirement already satisfied: fsspec<=2024.6.1,>=2023.1.0 in /usr/local/lib/python3.10/dist-packages (from fsspec[http]<=2024.6.1,>=2023.1.0->datasets) (2024.6.1)\n",
            "Requirement already satisfied: aiohttp in /usr/local/lib/python3.10/dist-packages (from datasets) (3.10.8)\n",
            "Requirement already satisfied: huggingface-hub>=0.22.0 in /usr/local/lib/python3.10/dist-packages (from datasets) (0.24.7)\n",
            "Requirement already satisfied: packaging in /usr/local/lib/python3.10/dist-packages (from datasets) (24.1)\n",
            "Requirement already satisfied: pyyaml>=5.1 in /usr/local/lib/python3.10/dist-packages (from datasets) (6.0.2)\n",
            "Requirement already satisfied: aiohappyeyeballs>=2.3.0 in /usr/local/lib/python3.10/dist-packages (from aiohttp->datasets) (2.4.3)\n",
            "Requirement already satisfied: aiosignal>=1.1.2 in /usr/local/lib/python3.10/dist-packages (from aiohttp->datasets) (1.3.1)\n",
            "Requirement already satisfied: attrs>=17.3.0 in /usr/local/lib/python3.10/dist-packages (from aiohttp->datasets) (24.2.0)\n",
            "Requirement already satisfied: frozenlist>=1.1.1 in /usr/local/lib/python3.10/dist-packages (from aiohttp->datasets) (1.4.1)\n",
            "Requirement already satisfied: multidict<7.0,>=4.5 in /usr/local/lib/python3.10/dist-packages (from aiohttp->datasets) (6.1.0)\n",
            "Requirement already satisfied: yarl<2.0,>=1.12.0 in /usr/local/lib/python3.10/dist-packages (from aiohttp->datasets) (1.13.1)\n",
            "Requirement already satisfied: async-timeout<5.0,>=4.0 in /usr/local/lib/python3.10/dist-packages (from aiohttp->datasets) (4.0.3)\n",
            "Requirement already satisfied: typing-extensions>=3.7.4.3 in /usr/local/lib/python3.10/dist-packages (from huggingface-hub>=0.22.0->datasets) (4.12.2)\n",
            "Requirement already satisfied: charset-normalizer<4,>=2 in /usr/local/lib/python3.10/dist-packages (from requests>=2.32.2->datasets) (3.3.2)\n",
            "Requirement already satisfied: idna<4,>=2.5 in /usr/local/lib/python3.10/dist-packages (from requests>=2.32.2->datasets) (3.10)\n",
            "Requirement already satisfied: urllib3<3,>=1.21.1 in /usr/local/lib/python3.10/dist-packages (from requests>=2.32.2->datasets) (2.2.3)\n",
            "Requirement already satisfied: certifi>=2017.4.17 in /usr/local/lib/python3.10/dist-packages (from requests>=2.32.2->datasets) (2024.8.30)\n",
            "Requirement already satisfied: python-dateutil>=2.8.2 in /usr/local/lib/python3.10/dist-packages (from pandas->datasets) (2.8.2)\n",
            "Requirement already satisfied: pytz>=2020.1 in /usr/local/lib/python3.10/dist-packages (from pandas->datasets) (2024.2)\n",
            "Requirement already satisfied: tzdata>=2022.7 in /usr/local/lib/python3.10/dist-packages (from pandas->datasets) (2024.2)\n",
            "Requirement already satisfied: six>=1.5 in /usr/local/lib/python3.10/dist-packages (from python-dateutil>=2.8.2->pandas->datasets) (1.16.0)\n"
          ]
        }
      ],
      "source": [
        "!pip install huggingface_hub\n",
        "!pip install datasets"
      ]
    },
    {
      "cell_type": "code",
      "source": [
        "!huggingface-cli login"
      ],
      "metadata": {
        "colab": {
          "base_uri": "https://localhost:8080/"
        },
        "id": "K8NLPoXjMce8",
        "outputId": "3d8f86d1-9e30-4187-9729-fea6016265fb"
      },
      "execution_count": 121,
      "outputs": [
        {
          "output_type": "stream",
          "name": "stdout",
          "text": [
            "\n",
            "    _|    _|  _|    _|    _|_|_|    _|_|_|  _|_|_|  _|      _|    _|_|_|      _|_|_|_|    _|_|      _|_|_|  _|_|_|_|\n",
            "    _|    _|  _|    _|  _|        _|          _|    _|_|    _|  _|            _|        _|    _|  _|        _|\n",
            "    _|_|_|_|  _|    _|  _|  _|_|  _|  _|_|    _|    _|  _|  _|  _|  _|_|      _|_|_|    _|_|_|_|  _|        _|_|_|\n",
            "    _|    _|  _|    _|  _|    _|  _|    _|    _|    _|    _|_|  _|    _|      _|        _|    _|  _|        _|\n",
            "    _|    _|    _|_|      _|_|_|    _|_|_|  _|_|_|  _|      _|    _|_|_|      _|        _|    _|    _|_|_|  _|_|_|_|\n",
            "\n",
            "    A token is already saved on your machine. Run `huggingface-cli whoami` to get more information or `huggingface-cli logout` if you want to log out.\n",
            "    Setting a new token will erase the existing one.\n",
            "    To login, `huggingface_hub` requires a token generated from https://huggingface.co/settings/tokens .\n",
            "Enter your token (input will not be visible): \n",
            "Add token as git credential? (Y/n) n\n",
            "Token is valid (permission: read).\n",
            "Your token has been saved to /root/.cache/huggingface/token\n",
            "Login successful\n"
          ]
        }
      ]
    },
    {
      "cell_type": "code",
      "execution_count": 122,
      "metadata": {
        "colab": {
          "base_uri": "https://localhost:8080/"
        },
        "id": "Ds6A9V5XGLJi",
        "outputId": "256b042d-620f-4f73-d544-7508fae3bfc7"
      },
      "outputs": [
        {
          "output_type": "stream",
          "name": "stdout",
          "text": [
            "Requirement already satisfied: transformers in /usr/local/lib/python3.10/dist-packages (4.44.2)\n",
            "Requirement already satisfied: filelock in /usr/local/lib/python3.10/dist-packages (from transformers) (3.16.1)\n",
            "Requirement already satisfied: huggingface-hub<1.0,>=0.23.2 in /usr/local/lib/python3.10/dist-packages (from transformers) (0.24.7)\n",
            "Requirement already satisfied: numpy>=1.17 in /usr/local/lib/python3.10/dist-packages (from transformers) (1.26.4)\n",
            "Requirement already satisfied: packaging>=20.0 in /usr/local/lib/python3.10/dist-packages (from transformers) (24.1)\n",
            "Requirement already satisfied: pyyaml>=5.1 in /usr/local/lib/python3.10/dist-packages (from transformers) (6.0.2)\n",
            "Requirement already satisfied: regex!=2019.12.17 in /usr/local/lib/python3.10/dist-packages (from transformers) (2024.9.11)\n",
            "Requirement already satisfied: requests in /usr/local/lib/python3.10/dist-packages (from transformers) (2.32.3)\n",
            "Requirement already satisfied: safetensors>=0.4.1 in /usr/local/lib/python3.10/dist-packages (from transformers) (0.4.5)\n",
            "Requirement already satisfied: tokenizers<0.20,>=0.19 in /usr/local/lib/python3.10/dist-packages (from transformers) (0.19.1)\n",
            "Requirement already satisfied: tqdm>=4.27 in /usr/local/lib/python3.10/dist-packages (from transformers) (4.66.5)\n",
            "Requirement already satisfied: fsspec>=2023.5.0 in /usr/local/lib/python3.10/dist-packages (from huggingface-hub<1.0,>=0.23.2->transformers) (2024.6.1)\n",
            "Requirement already satisfied: typing-extensions>=3.7.4.3 in /usr/local/lib/python3.10/dist-packages (from huggingface-hub<1.0,>=0.23.2->transformers) (4.12.2)\n",
            "Requirement already satisfied: charset-normalizer<4,>=2 in /usr/local/lib/python3.10/dist-packages (from requests->transformers) (3.3.2)\n",
            "Requirement already satisfied: idna<4,>=2.5 in /usr/local/lib/python3.10/dist-packages (from requests->transformers) (3.10)\n",
            "Requirement already satisfied: urllib3<3,>=1.21.1 in /usr/local/lib/python3.10/dist-packages (from requests->transformers) (2.2.3)\n",
            "Requirement already satisfied: certifi>=2017.4.17 in /usr/local/lib/python3.10/dist-packages (from requests->transformers) (2024.8.30)\n",
            "Requirement already satisfied: nltk in /usr/local/lib/python3.10/dist-packages (3.8.1)\n",
            "Requirement already satisfied: click in /usr/local/lib/python3.10/dist-packages (from nltk) (8.1.7)\n",
            "Requirement already satisfied: joblib in /usr/local/lib/python3.10/dist-packages (from nltk) (1.4.2)\n",
            "Requirement already satisfied: regex>=2021.8.3 in /usr/local/lib/python3.10/dist-packages (from nltk) (2024.9.11)\n",
            "Requirement already satisfied: tqdm in /usr/local/lib/python3.10/dist-packages (from nltk) (4.66.5)\n"
          ]
        },
        {
          "output_type": "stream",
          "name": "stderr",
          "text": [
            "[nltk_data] Downloading package punkt to /root/nltk_data...\n",
            "[nltk_data]   Package punkt is already up-to-date!\n",
            "[nltk_data] Downloading package punkt_tab to /root/nltk_data...\n",
            "[nltk_data]   Package punkt_tab is already up-to-date!\n"
          ]
        },
        {
          "output_type": "execute_result",
          "data": {
            "text/plain": [
              "True"
            ]
          },
          "metadata": {},
          "execution_count": 122
        }
      ],
      "source": [
        "!pip install transformers\n",
        "!pip install nltk\n",
        "\n",
        "import numpy as np\n",
        "import pandas as pd\n",
        "\n",
        "import nltk\n",
        "from nltk.tokenize import word_tokenize\n",
        "\n",
        "nltk.download(\"punkt\")\n",
        "nltk.download(\"punkt_tab\")"
      ]
    },
    {
      "cell_type": "markdown",
      "metadata": {
        "id": "WI66_sV96t3N"
      },
      "source": [
        "# Loading and transforming dataset into the required form"
      ]
    },
    {
      "cell_type": "code",
      "execution_count": 123,
      "metadata": {
        "id": "V4gx-WKtDUKh"
      },
      "outputs": [],
      "source": [
        "from datasets import load_dataset\n",
        "\n",
        "ds = load_dataset(\"opennyaiorg/InLegalNER\")\n",
        "\n",
        "train_dataset = load_dataset(\"opennyaiorg/InLegalNER\", split=\"train\")\n",
        "dev_dataset = load_dataset(\"opennyaiorg/InLegalNER\", split=\"dev\")\n",
        "test_dataset  = load_dataset(\"opennyaiorg/InLegalNER\", split=\"test\")"
      ]
    },
    {
      "cell_type": "code",
      "execution_count": 124,
      "metadata": {
        "id": "DG1jjvCEImrT"
      },
      "outputs": [],
      "source": [
        "dev_df = pd.DataFrame(dev_dataset)\n",
        "train_df = pd.DataFrame(train_dataset)\n",
        "test_df = pd.DataFrame(test_dataset)"
      ]
    },
    {
      "cell_type": "code",
      "execution_count": 125,
      "metadata": {
        "colab": {
          "base_uri": "https://localhost:8080/"
        },
        "id": "tAmmBk_vI8HL",
        "outputId": "8b799d00-d1ad-4ebf-c18c-2311c1aeda60"
      },
      "outputs": [
        {
          "output_type": "execute_result",
          "data": {
            "text/plain": [
              "[{'result': [{'from_name': 'label',\n",
              "    'id': '25TFDATV',\n",
              "    'to_name': 'text',\n",
              "    'type': 'labels',\n",
              "    'value': {'end': 22,\n",
              "     'labels': ['STATUTE'],\n",
              "     'start': 10,\n",
              "     'text': 'Constitution'}},\n",
              "   {'from_name': 'label',\n",
              "    'id': 'F706LMQM',\n",
              "    'to_name': 'text',\n",
              "    'type': 'labels',\n",
              "    'value': {'end': 155,\n",
              "     'labels': ['PRECEDENT'],\n",
              "     'start': 108,\n",
              "     'text': 'R.C. Cooper v. Union of India, (1970) 1 SCC 248'}},\n",
              "   {'from_name': 'label',\n",
              "    'id': '2EURBJSZ',\n",
              "    'to_name': 'text',\n",
              "    'type': 'labels',\n",
              "    'value': {'end': 209,\n",
              "     'labels': ['PRECEDENT'],\n",
              "     'start': 160,\n",
              "     'text': 'Maneka Gandhi v. Union of India, (1978) 1 SCC 248'}}]}]"
            ]
          },
          "metadata": {},
          "execution_count": 125
        }
      ],
      "source": [
        "dev_df[\"annotations\"][0]"
      ]
    },
    {
      "cell_type": "code",
      "execution_count": 126,
      "metadata": {
        "colab": {
          "base_uri": "https://localhost:8080/"
        },
        "id": "otTIshttJHzQ",
        "outputId": "83cf2da5-f63a-4d00-f2b2-7d603325621b"
      },
      "outputs": [
        {
          "output_type": "execute_result",
          "data": {
            "text/plain": [
              "{'text': \"True, our Constitution has no 'due process' clause or the VIII Amendment; but, in this branch of law, after R.C. Cooper v. Union of India, (1970) 1 SCC 248 and Maneka Gandhi v. Union of India, (1978) 1 SCC 248, the consequence is the same.\"}"
            ]
          },
          "metadata": {},
          "execution_count": 126
        }
      ],
      "source": [
        "dev_df[\"data\"][0]"
      ]
    },
    {
      "cell_type": "code",
      "execution_count": 127,
      "metadata": {
        "id": "xa2pTWxRL_mj"
      },
      "outputs": [],
      "source": [
        "tags = [\n",
        "    \"COURT\",\n",
        "    \"PETITIONER\",\n",
        "    \"RESPONDENT\",\n",
        "    \"JUDGE\",\n",
        "    \"LAWYER\",\n",
        "    \"DATE\",\n",
        "    \"ORG\",\n",
        "    \"GPE\",\n",
        "    \"STATUTE\",\n",
        "    \"PROVISION\",\n",
        "    \"PRECEDENT\",\n",
        "    \"CASE_NUMBER\",\n",
        "    \"WITNESS\",\n",
        "    \"OTHER_PERSON\",\n",
        "]\n",
        "\n",
        "ner_tags = [\"O\"] + [item for x in tags for item in (f\"B-{x}\", f\"I-{x}\")]\n",
        "index2tag = {idx: tag for idx, tag in enumerate(ner_tags)}\n",
        "tag2index = {tag: idx for idx, tag in enumerate(ner_tags)}"
      ]
    },
    {
      "cell_type": "code",
      "source": [
        "ner_tags"
      ],
      "metadata": {
        "colab": {
          "base_uri": "https://localhost:8080/"
        },
        "id": "NvJMaW-dNsAj",
        "outputId": "c5409580-2a80-40de-f8e0-ce73a77ba51a"
      },
      "execution_count": 128,
      "outputs": [
        {
          "output_type": "execute_result",
          "data": {
            "text/plain": [
              "['O',\n",
              " 'B-COURT',\n",
              " 'I-COURT',\n",
              " 'B-PETITIONER',\n",
              " 'I-PETITIONER',\n",
              " 'B-RESPONDENT',\n",
              " 'I-RESPONDENT',\n",
              " 'B-JUDGE',\n",
              " 'I-JUDGE',\n",
              " 'B-LAWYER',\n",
              " 'I-LAWYER',\n",
              " 'B-DATE',\n",
              " 'I-DATE',\n",
              " 'B-ORG',\n",
              " 'I-ORG',\n",
              " 'B-GPE',\n",
              " 'I-GPE',\n",
              " 'B-STATUTE',\n",
              " 'I-STATUTE',\n",
              " 'B-PROVISION',\n",
              " 'I-PROVISION',\n",
              " 'B-PRECEDENT',\n",
              " 'I-PRECEDENT',\n",
              " 'B-CASE_NUMBER',\n",
              " 'I-CASE_NUMBER',\n",
              " 'B-WITNESS',\n",
              " 'I-WITNESS',\n",
              " 'B-OTHER_PERSON',\n",
              " 'I-OTHER_PERSON']"
            ]
          },
          "metadata": {},
          "execution_count": 128
        }
      ]
    },
    {
      "cell_type": "code",
      "source": [
        "index2tag"
      ],
      "metadata": {
        "colab": {
          "base_uri": "https://localhost:8080/"
        },
        "id": "7LfCpnOYNu6Y",
        "outputId": "ad779f37-f2a5-4159-8a33-1790454148c9"
      },
      "execution_count": 129,
      "outputs": [
        {
          "output_type": "execute_result",
          "data": {
            "text/plain": [
              "{0: 'O',\n",
              " 1: 'B-COURT',\n",
              " 2: 'I-COURT',\n",
              " 3: 'B-PETITIONER',\n",
              " 4: 'I-PETITIONER',\n",
              " 5: 'B-RESPONDENT',\n",
              " 6: 'I-RESPONDENT',\n",
              " 7: 'B-JUDGE',\n",
              " 8: 'I-JUDGE',\n",
              " 9: 'B-LAWYER',\n",
              " 10: 'I-LAWYER',\n",
              " 11: 'B-DATE',\n",
              " 12: 'I-DATE',\n",
              " 13: 'B-ORG',\n",
              " 14: 'I-ORG',\n",
              " 15: 'B-GPE',\n",
              " 16: 'I-GPE',\n",
              " 17: 'B-STATUTE',\n",
              " 18: 'I-STATUTE',\n",
              " 19: 'B-PROVISION',\n",
              " 20: 'I-PROVISION',\n",
              " 21: 'B-PRECEDENT',\n",
              " 22: 'I-PRECEDENT',\n",
              " 23: 'B-CASE_NUMBER',\n",
              " 24: 'I-CASE_NUMBER',\n",
              " 25: 'B-WITNESS',\n",
              " 26: 'I-WITNESS',\n",
              " 27: 'B-OTHER_PERSON',\n",
              " 28: 'I-OTHER_PERSON'}"
            ]
          },
          "metadata": {},
          "execution_count": 129
        }
      ]
    },
    {
      "cell_type": "code",
      "source": [
        "tag2index"
      ],
      "metadata": {
        "colab": {
          "base_uri": "https://localhost:8080/"
        },
        "id": "Ij-qnQPuNwE_",
        "outputId": "97564152-0c5b-4421-9189-bc4fdce14646"
      },
      "execution_count": 130,
      "outputs": [
        {
          "output_type": "execute_result",
          "data": {
            "text/plain": [
              "{'O': 0,\n",
              " 'B-COURT': 1,\n",
              " 'I-COURT': 2,\n",
              " 'B-PETITIONER': 3,\n",
              " 'I-PETITIONER': 4,\n",
              " 'B-RESPONDENT': 5,\n",
              " 'I-RESPONDENT': 6,\n",
              " 'B-JUDGE': 7,\n",
              " 'I-JUDGE': 8,\n",
              " 'B-LAWYER': 9,\n",
              " 'I-LAWYER': 10,\n",
              " 'B-DATE': 11,\n",
              " 'I-DATE': 12,\n",
              " 'B-ORG': 13,\n",
              " 'I-ORG': 14,\n",
              " 'B-GPE': 15,\n",
              " 'I-GPE': 16,\n",
              " 'B-STATUTE': 17,\n",
              " 'I-STATUTE': 18,\n",
              " 'B-PROVISION': 19,\n",
              " 'I-PROVISION': 20,\n",
              " 'B-PRECEDENT': 21,\n",
              " 'I-PRECEDENT': 22,\n",
              " 'B-CASE_NUMBER': 23,\n",
              " 'I-CASE_NUMBER': 24,\n",
              " 'B-WITNESS': 25,\n",
              " 'I-WITNESS': 26,\n",
              " 'B-OTHER_PERSON': 27,\n",
              " 'I-OTHER_PERSON': 28}"
            ]
          },
          "metadata": {},
          "execution_count": 130
        }
      ]
    },
    {
      "cell_type": "code",
      "execution_count": 131,
      "metadata": {
        "id": "qHH3uye_HFht"
      },
      "outputs": [],
      "source": [
        "def tokenize_with_positions(text):\n",
        "    tokens_with_positions = {}\n",
        "    tokens = word_tokenize(text)\n",
        "\n",
        "    # NLTK converts double quotes during tokenization\n",
        "    tokens = ['\"' if token == \"''\" or token == \"``\" else token for token in tokens]\n",
        "\n",
        "    start_pos = 0\n",
        "    for index, token in enumerate(tokens):\n",
        "        start_pos = text.find(token, start_pos)\n",
        "\n",
        "        tokens_with_positions[start_pos] = {\n",
        "            \"token\": token,\n",
        "            \"index\": index\n",
        "        }\n",
        "        start_pos += len(token)\n",
        "\n",
        "    return tokens, tokens_with_positions\n",
        "\n",
        "def assign_labels(tokens, tokens_with_positions, annotations):\n",
        "    positions = tokens_with_positions.keys()\n",
        "    labels = [\"O\"] * len(tokens)\n",
        "    indices = [0] * len(tokens)\n",
        "\n",
        "    for annotation in annotations:\n",
        "        annotation_value = annotation[\"value\"]\n",
        "        label = annotation_value[\"labels\"][0]\n",
        "        start = annotation_value[\"start\"]\n",
        "        end = annotation_value[\"end\"]\n",
        "        filtered_positions = [x for x in positions if start <= x < end]\n",
        "\n",
        "        i_flag = False\n",
        "\n",
        "        for position in filtered_positions:\n",
        "            if i_flag:\n",
        "                prefixed_label = f\"I-{label}\"\n",
        "            else:\n",
        "                prefixed_label = f\"B-{label}\"\n",
        "                i_flag = True\n",
        "\n",
        "            token_index = tokens_with_positions[position][\"index\"]\n",
        "            labels[token_index] = prefixed_label\n",
        "            indices[token_index] = tag2index[prefixed_label]\n",
        "\n",
        "    return labels, indices\n",
        "\n",
        "def process_row(row):\n",
        "    text = row[\"data\"][\"text\"]\n",
        "    annotations = row[\"annotations\"][0][\"result\"]\n",
        "\n",
        "    tokens, tokens_with_positions = tokenize_with_positions(text)\n",
        "\n",
        "    labels, indices = assign_labels(tokens, tokens_with_positions, annotations)\n",
        "\n",
        "    return pd.Series([tokens, labels, indices], index=[\"tokens\", \"tags\", \"indices\"])\n",
        "\n",
        "def convert_format(df):\n",
        "    df = df[[\"annotations\", \"data\"]]\n",
        "    df = df.apply(process_row, axis=1)\n",
        "    return df"
      ]
    },
    {
      "cell_type": "code",
      "execution_count": 132,
      "metadata": {
        "id": "WfMNY71EHwE2"
      },
      "outputs": [],
      "source": [
        "dev_df_formatted = convert_format(dev_df)\n",
        "train_df_formatted = convert_format(train_df)\n",
        "test_df_formatted = convert_format(test_df)"
      ]
    },
    {
      "cell_type": "code",
      "source": [
        "from collections import Counter\n",
        "\n",
        "def count_tags_in_df(df):\n",
        "    tag_counts = Counter()\n",
        "    for tags_list in df['tags']:\n",
        "        for tag in tags_list:\n",
        "            tag_counts[tag] += 1\n",
        "\n",
        "    return tag_counts"
      ],
      "metadata": {
        "id": "4Gkh0eQ9M5uT"
      },
      "execution_count": 133,
      "outputs": []
    },
    {
      "cell_type": "code",
      "source": [
        "from collections import Counter\n",
        "\n",
        "def count_unique_tags_in_df(df):\n",
        "    tag_counts = Counter()\n",
        "\n",
        "    for tags_list in df['tags']:\n",
        "        for tag in tags_list:\n",
        "            if tag != 'O':\n",
        "                tag = tag[2:]\n",
        "\n",
        "            tag_counts[tag] += 1\n",
        "\n",
        "    return tag_counts"
      ],
      "metadata": {
        "id": "TDHi1e_cRL1J"
      },
      "execution_count": 134,
      "outputs": []
    },
    {
      "cell_type": "code",
      "source": [
        "from tabulate import tabulate\n",
        "\n",
        "def tabulate_and_print(df, function):\n",
        "    tag_counts = function(df)\n",
        "    table_data = []\n",
        "    for tag, count in tag_counts.items():\n",
        "        table_data.append([tag, count])\n",
        "\n",
        "    print(tabulate(table_data, headers=[\"Tag\", \"Count\"]))"
      ],
      "metadata": {
        "id": "B3EEc5l9OFo5"
      },
      "execution_count": 135,
      "outputs": []
    },
    {
      "cell_type": "code",
      "source": [
        "def tabulate_all(df):\n",
        "    tabulate_and_print(df, count_tags_in_df)\n",
        "\n",
        "def tabulate_unique(df):\n",
        "    tabulate_and_print(df, count_unique_tags_in_df)"
      ],
      "metadata": {
        "id": "OSw68WfGPe8A"
      },
      "execution_count": 136,
      "outputs": []
    },
    {
      "cell_type": "code",
      "source": [
        "tabulate_all(dev_df_formatted)"
      ],
      "metadata": {
        "colab": {
          "base_uri": "https://localhost:8080/"
        },
        "id": "tsary9g-R9E9",
        "outputId": "6b412b2e-5c10-4d2c-b22c-0f1951911b56"
      },
      "execution_count": 137,
      "outputs": [
        {
          "output_type": "stream",
          "name": "stdout",
          "text": [
            "Tag               Count\n",
            "--------------  -------\n",
            "O                 48377\n",
            "B-STATUTE           222\n",
            "B-PRECEDENT         177\n",
            "I-PRECEDENT        2315\n",
            "B-JUDGE             172\n",
            "I-JUDGE             236\n",
            "B-GPE               181\n",
            "B-OTHER_PERSON      273\n",
            "B-DATE              218\n",
            "B-PROVISION         258\n",
            "I-PROVISION         770\n",
            "I-STATUTE           463\n",
            "B-CASE_NUMBER       121\n",
            "I-CASE_NUMBER       437\n",
            "B-COURT             296\n",
            "I-COURT            1071\n",
            "I-DATE              133\n",
            "I-OTHER_PERSON      203\n",
            "B-ORG               159\n",
            "I-ORG               347\n",
            "B-PETITIONER        206\n",
            "I-PETITIONER        483\n",
            "B-WITNESS            54\n",
            "I-WITNESS            58\n",
            "I-GPE                48\n",
            "B-RESPONDENT        307\n",
            "I-RESPONDENT       1097\n",
            "B-LAWYER            545\n",
            "I-LAWYER            656\n"
          ]
        }
      ]
    },
    {
      "cell_type": "code",
      "source": [
        "tabulate_unique(dev_df_formatted)"
      ],
      "metadata": {
        "colab": {
          "base_uri": "https://localhost:8080/"
        },
        "id": "WNdtThbkR_qW",
        "outputId": "c2f204ef-14c6-4185-cf95-3ffc57703256"
      },
      "execution_count": 138,
      "outputs": [
        {
          "output_type": "stream",
          "name": "stdout",
          "text": [
            "Tag             Count\n",
            "------------  -------\n",
            "O               48377\n",
            "STATUTE           685\n",
            "PRECEDENT        2492\n",
            "JUDGE             408\n",
            "GPE               229\n",
            "OTHER_PERSON      476\n",
            "DATE              351\n",
            "PROVISION        1028\n",
            "CASE_NUMBER       558\n",
            "COURT            1367\n",
            "ORG               506\n",
            "PETITIONER        689\n",
            "WITNESS           112\n",
            "RESPONDENT       1404\n",
            "LAWYER           1201\n"
          ]
        }
      ]
    },
    {
      "cell_type": "code",
      "source": [
        "tabulate_all(train_df_formatted)"
      ],
      "metadata": {
        "colab": {
          "base_uri": "https://localhost:8080/"
        },
        "id": "8pYw0O4qRFuJ",
        "outputId": "7d638d8a-6a4f-454e-8c58-227c5046b222"
      },
      "execution_count": 139,
      "outputs": [
        {
          "output_type": "stream",
          "name": "stdout",
          "text": [
            "Tag               Count\n",
            "--------------  -------\n",
            "O                490506\n",
            "B-ORG              1440\n",
            "I-ORG              2971\n",
            "B-OTHER_PERSON     2598\n",
            "I-OTHER_PERSON     2155\n",
            "B-WITNESS           862\n",
            "I-WITNESS           768\n",
            "B-GPE              1393\n",
            "B-STATUTE          1804\n",
            "B-DATE             1885\n",
            "I-DATE             1937\n",
            "B-PROVISION        2378\n",
            "I-PROVISION        6606\n",
            "I-STATUTE          4005\n",
            "B-COURT            2367\n",
            "I-COURT           10192\n",
            "B-PRECEDENT        1351\n",
            "I-PRECEDENT       14631\n",
            "B-CASE_NUMBER      1038\n",
            "I-CASE_NUMBER      4870\n",
            "I-GPE               288\n",
            "B-PETITIONER       3031\n",
            "I-PETITIONER       5538\n",
            "B-JUDGE            2291\n",
            "I-JUDGE            2290\n",
            "B-RESPONDENT       3811\n",
            "I-RESPONDENT      11044\n",
            "B-LAWYER           2897\n",
            "I-LAWYER           3189\n"
          ]
        }
      ]
    },
    {
      "cell_type": "code",
      "source": [
        "tabulate_unique(train_df_formatted)"
      ],
      "metadata": {
        "colab": {
          "base_uri": "https://localhost:8080/"
        },
        "id": "wmlQeHlESEnK",
        "outputId": "92735c7c-25e4-4efd-da42-83146f13aac2"
      },
      "execution_count": 140,
      "outputs": [
        {
          "output_type": "stream",
          "name": "stdout",
          "text": [
            "Tag             Count\n",
            "------------  -------\n",
            "O              490506\n",
            "ORG              4411\n",
            "OTHER_PERSON     4753\n",
            "WITNESS          1630\n",
            "GPE              1681\n",
            "STATUTE          5809\n",
            "DATE             3822\n",
            "PROVISION        8984\n",
            "COURT           12559\n",
            "PRECEDENT       15982\n",
            "CASE_NUMBER      5908\n",
            "PETITIONER       8569\n",
            "JUDGE            4581\n",
            "RESPONDENT      14855\n",
            "LAWYER           6086\n"
          ]
        }
      ]
    },
    {
      "cell_type": "code",
      "source": [
        "tabulate_all(test_df_formatted)"
      ],
      "metadata": {
        "colab": {
          "base_uri": "https://localhost:8080/"
        },
        "id": "cUuYVvCASGLy",
        "outputId": "4028b672-ae5e-419e-8391-90c5fa9838a7"
      },
      "execution_count": 141,
      "outputs": [
        {
          "output_type": "stream",
          "name": "stdout",
          "text": [
            "Tag               Count\n",
            "--------------  -------\n",
            "O                202810\n",
            "B-COURT            1221\n",
            "I-COURT            3845\n",
            "B-JUDGE             580\n",
            "B-PETITIONER        847\n",
            "I-PETITIONER       1709\n",
            "B-LAWYER           1585\n",
            "I-LAWYER           1711\n",
            "B-RESPONDENT       1061\n",
            "I-RESPONDENT       4406\n",
            "I-JUDGE             693\n",
            "B-OTHER_PERSON     1082\n",
            "B-PROVISION        1215\n",
            "I-PROVISION        3317\n",
            "B-STATUTE           973\n",
            "I-STATUTE          2048\n",
            "B-PRECEDENT         650\n",
            "I-PRECEDENT        8154\n",
            "I-OTHER_PERSON      941\n",
            "B-ORG               912\n",
            "I-ORG              1698\n",
            "B-WITNESS           398\n",
            "I-WITNESS           363\n",
            "B-DATE             1049\n",
            "I-DATE              684\n",
            "B-GPE               713\n",
            "B-CASE_NUMBER       665\n",
            "I-CASE_NUMBER      2470\n",
            "I-GPE               131\n"
          ]
        }
      ]
    },
    {
      "cell_type": "code",
      "source": [
        "tabulate_unique(test_df_formatted)"
      ],
      "metadata": {
        "colab": {
          "base_uri": "https://localhost:8080/"
        },
        "id": "D1t86ylPSHwb",
        "outputId": "05da6ced-6dd0-4827-8dc2-85525dc27178"
      },
      "execution_count": 142,
      "outputs": [
        {
          "output_type": "stream",
          "name": "stdout",
          "text": [
            "Tag             Count\n",
            "------------  -------\n",
            "O              202810\n",
            "COURT            5066\n",
            "JUDGE            1273\n",
            "PETITIONER       2556\n",
            "LAWYER           3296\n",
            "RESPONDENT       5467\n",
            "OTHER_PERSON     2023\n",
            "PROVISION        4532\n",
            "STATUTE          3021\n",
            "PRECEDENT        8804\n",
            "ORG              2610\n",
            "WITNESS           761\n",
            "DATE             1733\n",
            "GPE               844\n",
            "CASE_NUMBER      3135\n"
          ]
        }
      ]
    },
    {
      "cell_type": "code",
      "source": [
        "def count_all_os(df):\n",
        "  ctr = 0\n",
        "  for _, row in df.iterrows():\n",
        "      if all(tag == 'O' for tag in row['tags']):\n",
        "          ctr += 1\n",
        "  return ctr"
      ],
      "metadata": {
        "id": "zMPpLArASOec"
      },
      "execution_count": 143,
      "outputs": []
    },
    {
      "cell_type": "code",
      "source": [
        "print(f\"Count of all Os in dev_df_formatted: {count_all_os(dev_df_formatted)}\")\n",
        "print(f\"Count of all Os in train_df_formatted: {count_all_os(train_df_formatted)}\")\n",
        "print(f\"Count of all Os in test_df_formatted: {count_all_os(test_df_formatted)}\")"
      ],
      "metadata": {
        "colab": {
          "base_uri": "https://localhost:8080/"
        },
        "id": "C9LsE5tkSfmi",
        "outputId": "cc08ac9d-3571-448d-8248-1bd9d2722f12"
      },
      "execution_count": 144,
      "outputs": [
        {
          "output_type": "stream",
          "name": "stdout",
          "text": [
            "Count of all Os in dev_df_formatted: 184\n",
            "Count of all Os in train_df_formatted: 2197\n",
            "Count of all Os in test_df_formatted: 565\n"
          ]
        }
      ]
    },
    {
      "cell_type": "code",
      "source": [
        "def drop_rows_with_only_o_tags(df):\n",
        "  new_df = df.copy()\n",
        "  rows_to_drop = []\n",
        "  for index, row in new_df.iterrows():\n",
        "    if all(tag == 'O' for tag in row['tags']):\n",
        "      rows_to_drop.append(index)\n",
        "  new_df = new_df.drop(rows_to_drop)\n",
        "  return new_df"
      ],
      "metadata": {
        "id": "cXJRWq7fSstv"
      },
      "execution_count": 145,
      "outputs": []
    },
    {
      "cell_type": "code",
      "source": [
        "dev_df_cleaned = drop_rows_with_only_o_tags(dev_df_formatted)\n",
        "train_df_cleaned = drop_rows_with_only_o_tags(train_df_formatted)\n",
        "test_df_cleaned = drop_rows_with_only_o_tags(test_df_formatted)"
      ],
      "metadata": {
        "id": "-RWE0p27S23W"
      },
      "execution_count": 146,
      "outputs": []
    },
    {
      "cell_type": "code",
      "source": [
        "print(f\"Count of all Os in dev_df_formatted: {count_all_os(dev_df_cleaned)}\")\n",
        "print(f\"Count of all Os in train_df_formatted: {count_all_os(train_df_cleaned)}\")\n",
        "print(f\"Count of all Os in test_df_formatted: {count_all_os(test_df_cleaned)}\")"
      ],
      "metadata": {
        "colab": {
          "base_uri": "https://localhost:8080/"
        },
        "id": "Ipa-F4HgS914",
        "outputId": "f52149b4-4db7-4f9e-b40e-0b2f20a3bb3a"
      },
      "execution_count": 147,
      "outputs": [
        {
          "output_type": "stream",
          "name": "stdout",
          "text": [
            "Count of all Os in dev_df_formatted: 0\n",
            "Count of all Os in train_df_formatted: 0\n",
            "Count of all Os in test_df_formatted: 0\n"
          ]
        }
      ]
    },
    {
      "cell_type": "code",
      "source": [
        "print(f\"Number of rows in dev_df_cleaned: {len(dev_df_cleaned)}\")\n",
        "print(f\"Number of rows in train_df_cleaned: {len(train_df_cleaned)}\")\n",
        "print(f\"Number of rows in test_df_cleaned: {len(test_df_cleaned)}\")"
      ],
      "metadata": {
        "colab": {
          "base_uri": "https://localhost:8080/"
        },
        "id": "OJu9PJOATGzo",
        "outputId": "1e350092-dc41-4ed2-91b4-896b139a8522"
      },
      "execution_count": 148,
      "outputs": [
        {
          "output_type": "stream",
          "name": "stdout",
          "text": [
            "Number of rows in dev_df_cleaned: 890\n",
            "Number of rows in train_df_cleaned: 8798\n",
            "Number of rows in test_df_cleaned: 3936\n"
          ]
        }
      ]
    },
    {
      "cell_type": "code",
      "source": [
        "tabulate_all(dev_df_cleaned)"
      ],
      "metadata": {
        "colab": {
          "base_uri": "https://localhost:8080/"
        },
        "id": "JDX89m9oTUHH",
        "outputId": "a61920a8-07bf-4664-a50b-35e378d333da"
      },
      "execution_count": 149,
      "outputs": [
        {
          "output_type": "stream",
          "name": "stdout",
          "text": [
            "Tag               Count\n",
            "--------------  -------\n",
            "O                 43041\n",
            "B-STATUTE           222\n",
            "B-PRECEDENT         177\n",
            "I-PRECEDENT        2315\n",
            "B-JUDGE             172\n",
            "I-JUDGE             236\n",
            "B-GPE               181\n",
            "B-OTHER_PERSON      273\n",
            "B-DATE              218\n",
            "B-PROVISION         258\n",
            "I-PROVISION         770\n",
            "I-STATUTE           463\n",
            "B-CASE_NUMBER       121\n",
            "I-CASE_NUMBER       437\n",
            "B-COURT             296\n",
            "I-COURT            1071\n",
            "I-DATE              133\n",
            "I-OTHER_PERSON      203\n",
            "B-ORG               159\n",
            "I-ORG               347\n",
            "B-PETITIONER        206\n",
            "I-PETITIONER        483\n",
            "B-WITNESS            54\n",
            "I-WITNESS            58\n",
            "I-GPE                48\n",
            "B-RESPONDENT        307\n",
            "I-RESPONDENT       1097\n",
            "B-LAWYER            545\n",
            "I-LAWYER            656\n"
          ]
        }
      ]
    },
    {
      "cell_type": "code",
      "source": [
        "tabulate_unique(dev_df_cleaned)"
      ],
      "metadata": {
        "colab": {
          "base_uri": "https://localhost:8080/"
        },
        "id": "uh90ISSITYjS",
        "outputId": "a95d60f7-c457-4f04-828a-476a2a9d02f0"
      },
      "execution_count": 150,
      "outputs": [
        {
          "output_type": "stream",
          "name": "stdout",
          "text": [
            "Tag             Count\n",
            "------------  -------\n",
            "O               43041\n",
            "STATUTE           685\n",
            "PRECEDENT        2492\n",
            "JUDGE             408\n",
            "GPE               229\n",
            "OTHER_PERSON      476\n",
            "DATE              351\n",
            "PROVISION        1028\n",
            "CASE_NUMBER       558\n",
            "COURT            1367\n",
            "ORG               506\n",
            "PETITIONER        689\n",
            "WITNESS           112\n",
            "RESPONDENT       1404\n",
            "LAWYER           1201\n"
          ]
        }
      ]
    },
    {
      "cell_type": "code",
      "source": [
        "tabulate_all(train_df_cleaned)"
      ],
      "metadata": {
        "colab": {
          "base_uri": "https://localhost:8080/"
        },
        "id": "U3lat4z9TZFW",
        "outputId": "5d61827d-4316-4582-e130-f2c578a7768f"
      },
      "execution_count": 151,
      "outputs": [
        {
          "output_type": "stream",
          "name": "stdout",
          "text": [
            "Tag               Count\n",
            "--------------  -------\n",
            "O                427058\n",
            "B-ORG              1440\n",
            "I-ORG              2971\n",
            "B-OTHER_PERSON     2598\n",
            "I-OTHER_PERSON     2155\n",
            "B-WITNESS           862\n",
            "I-WITNESS           768\n",
            "B-GPE              1393\n",
            "B-STATUTE          1804\n",
            "B-DATE             1885\n",
            "I-DATE             1937\n",
            "B-PROVISION        2378\n",
            "I-PROVISION        6606\n",
            "I-STATUTE          4005\n",
            "B-COURT            2367\n",
            "I-COURT           10192\n",
            "B-PRECEDENT        1351\n",
            "I-PRECEDENT       14631\n",
            "B-CASE_NUMBER      1038\n",
            "I-CASE_NUMBER      4870\n",
            "I-GPE               288\n",
            "B-PETITIONER       3031\n",
            "I-PETITIONER       5538\n",
            "B-JUDGE            2291\n",
            "I-JUDGE            2290\n",
            "B-RESPONDENT       3811\n",
            "I-RESPONDENT      11044\n",
            "B-LAWYER           2897\n",
            "I-LAWYER           3189\n"
          ]
        }
      ]
    },
    {
      "cell_type": "code",
      "source": [
        "tabulate_unique(train_df_cleaned)"
      ],
      "metadata": {
        "colab": {
          "base_uri": "https://localhost:8080/"
        },
        "id": "-skjdpliTZsa",
        "outputId": "ff9605fa-b3ce-4213-ad35-9a77b7c2e4bc"
      },
      "execution_count": 152,
      "outputs": [
        {
          "output_type": "stream",
          "name": "stdout",
          "text": [
            "Tag             Count\n",
            "------------  -------\n",
            "O              427058\n",
            "ORG              4411\n",
            "OTHER_PERSON     4753\n",
            "WITNESS          1630\n",
            "GPE              1681\n",
            "STATUTE          5809\n",
            "DATE             3822\n",
            "PROVISION        8984\n",
            "COURT           12559\n",
            "PRECEDENT       15982\n",
            "CASE_NUMBER      5908\n",
            "PETITIONER       8569\n",
            "JUDGE            4581\n",
            "RESPONDENT      14855\n",
            "LAWYER           6086\n"
          ]
        }
      ]
    },
    {
      "cell_type": "code",
      "source": [
        "tabulate_all(test_df_cleaned)"
      ],
      "metadata": {
        "colab": {
          "base_uri": "https://localhost:8080/"
        },
        "id": "FN7L-jD0Tbdn",
        "outputId": "8d9d0d28-a7d2-48d0-d922-d3b4e641737a"
      },
      "execution_count": 153,
      "outputs": [
        {
          "output_type": "stream",
          "name": "stdout",
          "text": [
            "Tag               Count\n",
            "--------------  -------\n",
            "O                186789\n",
            "B-COURT            1221\n",
            "I-COURT            3845\n",
            "B-JUDGE             580\n",
            "B-PETITIONER        847\n",
            "I-PETITIONER       1709\n",
            "B-LAWYER           1585\n",
            "I-LAWYER           1711\n",
            "B-RESPONDENT       1061\n",
            "I-RESPONDENT       4406\n",
            "I-JUDGE             693\n",
            "B-OTHER_PERSON     1082\n",
            "B-PROVISION        1215\n",
            "I-PROVISION        3317\n",
            "B-STATUTE           973\n",
            "I-STATUTE          2048\n",
            "B-PRECEDENT         650\n",
            "I-PRECEDENT        8154\n",
            "I-OTHER_PERSON      941\n",
            "B-ORG               912\n",
            "I-ORG              1698\n",
            "B-WITNESS           398\n",
            "I-WITNESS           363\n",
            "B-DATE             1049\n",
            "I-DATE              684\n",
            "B-GPE               713\n",
            "B-CASE_NUMBER       665\n",
            "I-CASE_NUMBER      2470\n",
            "I-GPE               131\n"
          ]
        }
      ]
    },
    {
      "cell_type": "code",
      "source": [
        "tabulate_unique(test_df_cleaned)"
      ],
      "metadata": {
        "colab": {
          "base_uri": "https://localhost:8080/"
        },
        "id": "T-JVRzS3TdvB",
        "outputId": "19e35361-c1a0-4f7f-aadc-2a98e0d698c8"
      },
      "execution_count": 154,
      "outputs": [
        {
          "output_type": "stream",
          "name": "stdout",
          "text": [
            "Tag             Count\n",
            "------------  -------\n",
            "O              186789\n",
            "COURT            5066\n",
            "JUDGE            1273\n",
            "PETITIONER       2556\n",
            "LAWYER           3296\n",
            "RESPONDENT       5467\n",
            "OTHER_PERSON     2023\n",
            "PROVISION        4532\n",
            "STATUTE          3021\n",
            "PRECEDENT        8804\n",
            "ORG              2610\n",
            "WITNESS           761\n",
            "DATE             1733\n",
            "GPE               844\n",
            "CASE_NUMBER      3135\n"
          ]
        }
      ]
    },
    {
      "cell_type": "code",
      "source": [
        "dev_df_cleaned.to_json(\"dev_df.json\", orient=\"records\")\n",
        "train_df_cleaned.to_json(\"train_df.json\", orient=\"records\")\n",
        "test_df_cleaned.to_json(\"test_df.json\", orient=\"records\")"
      ],
      "metadata": {
        "id": "PQXKZPAjXdPG"
      },
      "execution_count": 155,
      "outputs": []
    },
    {
      "cell_type": "code",
      "source": [
        "merged_df = pd.concat([dev_df_cleaned, train_df_cleaned, test_df_cleaned], ignore_index=True)\n",
        "\n",
        "merged_df['tokens_tuple'] = merged_df['tokens'].apply(tuple)\n",
        "merged_df = merged_df.drop_duplicates(subset=['tokens_tuple'])\n",
        "merged_df = merged_df.drop(['tokens_tuple'], axis=1)"
      ],
      "metadata": {
        "id": "l_U391G2Xtiu"
      },
      "execution_count": 156,
      "outputs": []
    },
    {
      "cell_type": "code",
      "source": [
        "print(f\"Number of rows in merged_df: {len(merged_df)}\")"
      ],
      "metadata": {
        "colab": {
          "base_uri": "https://localhost:8080/"
        },
        "id": "7H7kmM2EYN2k",
        "outputId": "110a7f48-73c2-4c01-a136-f90d88542569"
      },
      "execution_count": 157,
      "outputs": [
        {
          "output_type": "stream",
          "name": "stdout",
          "text": [
            "Number of rows in merged_df: 13612\n"
          ]
        }
      ]
    },
    {
      "cell_type": "code",
      "source": [
        "tabulate_all(merged_df)"
      ],
      "metadata": {
        "colab": {
          "base_uri": "https://localhost:8080/"
        },
        "id": "M-z0DzlvYF5x",
        "outputId": "55f8829d-c807-4299-e3f2-62d9a2a53020"
      },
      "execution_count": 158,
      "outputs": [
        {
          "output_type": "stream",
          "name": "stdout",
          "text": [
            "Tag               Count\n",
            "--------------  -------\n",
            "O                656147\n",
            "B-STATUTE          2993\n",
            "B-PRECEDENT        2176\n",
            "I-PRECEDENT       25075\n",
            "B-JUDGE            3039\n",
            "I-JUDGE            3214\n",
            "B-GPE              2286\n",
            "B-OTHER_PERSON     3952\n",
            "B-DATE             3150\n",
            "B-PROVISION        3847\n",
            "I-PROVISION       10681\n",
            "I-STATUTE          6503\n",
            "B-CASE_NUMBER      1823\n",
            "I-CASE_NUMBER      7774\n",
            "B-COURT            3878\n",
            "I-COURT           15090\n",
            "I-DATE             2754\n",
            "I-OTHER_PERSON     3298\n",
            "B-ORG              2510\n",
            "I-ORG              5015\n",
            "B-PETITIONER       4082\n",
            "I-PETITIONER       7726\n",
            "B-WITNESS          1314\n",
            "I-WITNESS          1189\n",
            "I-GPE               467\n",
            "B-RESPONDENT       5175\n",
            "I-RESPONDENT      16520\n",
            "B-LAWYER           5025\n",
            "I-LAWYER           5556\n"
          ]
        }
      ]
    },
    {
      "cell_type": "code",
      "source": [
        "tabulate_unique(merged_df)"
      ],
      "metadata": {
        "colab": {
          "base_uri": "https://localhost:8080/"
        },
        "id": "UlD26oX5YGPu",
        "outputId": "154cc4f6-6483-4dd5-f535-583e81beaacf"
      },
      "execution_count": 159,
      "outputs": [
        {
          "output_type": "stream",
          "name": "stdout",
          "text": [
            "Tag             Count\n",
            "------------  -------\n",
            "O              656147\n",
            "STATUTE          9496\n",
            "PRECEDENT       27251\n",
            "JUDGE            6253\n",
            "GPE              2753\n",
            "OTHER_PERSON     7250\n",
            "DATE             5904\n",
            "PROVISION       14528\n",
            "CASE_NUMBER      9597\n",
            "COURT           18968\n",
            "ORG              7525\n",
            "PETITIONER      11808\n",
            "WITNESS          2503\n",
            "RESPONDENT      21695\n",
            "LAWYER          10581\n"
          ]
        }
      ]
    },
    {
      "cell_type": "code",
      "source": [
        "merged_df.to_json(\"merged_df.json\", orient=\"records\")"
      ],
      "metadata": {
        "id": "wCns2E_xYEYd"
      },
      "execution_count": 160,
      "outputs": []
    }
  ],
  "metadata": {
    "colab": {
      "provenance": []
    },
    "kernelspec": {
      "display_name": "Python 3 (ipykernel)",
      "language": "python",
      "name": "python3"
    },
    "language_info": {
      "codemirror_mode": {
        "name": "ipython",
        "version": 3
      },
      "file_extension": ".py",
      "mimetype": "text/x-python",
      "name": "python",
      "nbconvert_exporter": "python",
      "pygments_lexer": "ipython3",
      "version": "3.11.4"
    }
  },
  "nbformat": 4,
  "nbformat_minor": 0
}